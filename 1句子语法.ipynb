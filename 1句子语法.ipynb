{
 "cells": [
  {
   "cell_type": "code",
   "execution_count": 1,
   "metadata": {},
   "outputs": [],
   "source": [
    "import random"
   ]
  },
  {
   "cell_type": "code",
   "execution_count": null,
   "metadata": {},
   "outputs": [],
   "source": [
    "sentence = \"\"\"\n",
    "句子 = 主 谓 宾\n",
    "主 = 你 | 我 | 他\n",
    "谓 = 吃 | 喝\n",
    "宾 = 橘子 | 汽水 | 茶\n",
    "\"\"\""
   ]
  },
  {
   "cell_type": "markdown",
   "metadata": {},
   "source": [
    "## input: 根据这个语法定语，能够生成句子"
   ]
  },
  {
   "cell_type": "code",
   "execution_count": 2,
   "metadata": {},
   "outputs": [],
   "source": [
    "def sentence(): \n",
    "    return 主语() + 谓语() + 宾语()\n",
    "\n",
    "def 主语(): \n",
    "    return random.choice('你 | 我 | 他'.split('|'))\n",
    "\n",
    "def 谓语():\n",
    "    return random.choice('吃 | 喝'.split('|'))\n",
    "\n",
    "def 宾语():\n",
    "    return random.choice('橘子 | 汽水 | 茶'.split('|'))"
   ]
  },
  {
   "cell_type": "code",
   "execution_count": 9,
   "metadata": {},
   "outputs": [
    {
     "name": "stdout",
     "output_type": "stream",
     "text": [
      " 我 吃  汽水 \n",
      " 我  喝橘子 \n",
      " 他吃  汽水 \n",
      "你  喝 汽水 \n",
      " 我  喝 汽水 \n",
      "你  喝橘子 \n",
      "你  喝 茶\n",
      "你  喝 汽水 \n",
      "你 吃  汽水 \n",
      " 我  喝橘子 \n"
     ]
    }
   ],
   "source": [
    "for _ in range(10):\n",
    "    print(sentence())"
   ]
  },
  {
   "cell_type": "code",
   "execution_count": null,
   "metadata": {},
   "outputs": [],
   "source": [
    "two_number = \"\"\"\n",
    "numbers = num numbers | num\n",
    "num = 0 | 1 | 2 | 3\n",
    "\"\"\""
   ]
  },
  {
   "cell_type": "code",
   "execution_count": 51,
   "metadata": {},
   "outputs": [],
   "source": [
    "# def numbers_with_bug():\n",
    "#     return random.choice([num() + numbers_with_bug(), num()])\n",
    "\n",
    "def num():\n",
    "    return random.choice(' 0 | 1 | 2 | 3'.split('|'))\n",
    "\n",
    "def numbers():\n",
    "    if random.random() < 0.3: \n",
    "        return num()\n",
    "    else:\n",
    "        return num() + numbers()"
   ]
  },
  {
   "cell_type": "code",
   "execution_count": 58,
   "metadata": {},
   "outputs": [
    {
     "data": {
      "text/plain": [
       "' 2  1  0  0  1 '"
      ]
     },
     "execution_count": 58,
     "metadata": {},
     "output_type": "execute_result"
    }
   ],
   "source": [
    "numbers()"
   ]
  },
  {
   "cell_type": "code",
   "execution_count": 79,
   "metadata": {},
   "outputs": [
    {
     "name": "stdout",
     "output_type": "stream",
     "text": [
      " 0  1  2  2  1  0  1 \n",
      " 0  0 \n",
      " 3\n",
      " 2  1  1  1  3 1  0 \n",
      " 3\n",
      " 1  0 \n",
      " 1  3 2 \n",
      " 1  1  0  1  1  1 \n",
      " 1  0  1 \n",
      " 1 \n"
     ]
    }
   ],
   "source": [
    "for _ in range(10):\n",
    "    print(numbers())"
   ]
  },
  {
   "cell_type": "markdown",
   "metadata": {},
   "source": [
    "## 怎么样在问题场景变化（语法变化）的情况下，你的程序不需要重新写？"
   ]
  },
  {
   "cell_type": "code",
   "execution_count": 115,
   "metadata": {},
   "outputs": [],
   "source": [
    "numbers_ops = \"\"\"\n",
    "expression => expression op num_op | num_op\n",
    "num_op => nums op nums\n",
    "nums => num nums | num\n",
    "num => 0 | 1 | 2 | 3 | 4 | 5 | 6 | 7 | 8 | 9 \n",
    "op => + | - | * | /\n",
    "\"\"\" # 3 + 4 / 6 * 9"
   ]
  },
  {
   "cell_type": "code",
   "execution_count": 155,
   "metadata": {},
   "outputs": [],
   "source": [
    "def generate_grammer(grammer_str: str, split='=>'):\n",
    "    grammar = {}\n",
    "\n",
    "    for line in grammer_str.split('\\n'):\n",
    "        if not line: continue\n",
    "\n",
    "        expr, formula = line.split(split)\n",
    "        formulas = formula.split('|')\n",
    "\n",
    "        formulas = [f.split() for f in formulas]\n",
    "\n",
    "        grammar[expr.strip()] = formulas\n",
    "\n",
    "    return grammar"
   ]
  },
  {
   "cell_type": "code",
   "execution_count": 130,
   "metadata": {},
   "outputs": [],
   "source": [
    "def generate_by_grammer(grammar: dict, target=str):\n",
    "    if target not in grammar: return target # 是一个终结符\n",
    "    \n",
    "    expr = random.choice(grammar[target])\n",
    "    \n",
    "    return ''.join(generate_by_grammer(grammar, t) for t in expr)"
   ]
  },
  {
   "cell_type": "code",
   "execution_count": 131,
   "metadata": {},
   "outputs": [
    {
     "data": {
      "text/plain": [
       "'8/9-345*6057+8*7'"
      ]
     },
     "execution_count": 131,
     "metadata": {},
     "output_type": "execute_result"
    }
   ],
   "source": [
    "generate_by_grammer(grammar, target='expression')"
   ]
  },
  {
   "cell_type": "code",
   "execution_count": 158,
   "metadata": {},
   "outputs": [],
   "source": [
    "def generate_by_str(grammar_str, target, spliter='=>'):\n",
    "    return generate_by_grammer(grammar=generate_grammer(grammar_str, spliter), target=target)"
   ]
  },
  {
   "cell_type": "code",
   "execution_count": 159,
   "metadata": {},
   "outputs": [],
   "source": [
    "sentence = \"\"\"\n",
    "句子 => 主 谓 宾\n",
    "主 => 你 | 我 | 他\n",
    "谓 => 吃 | 喝\n",
    "宾 => 橘子 | 汽水 | 茶\n",
    "\"\"\""
   ]
  },
  {
   "cell_type": "code",
   "execution_count": 160,
   "metadata": {},
   "outputs": [
    {
     "data": {
      "text/plain": [
       "'37/109+3*46*50890799/4197'"
      ]
     },
     "execution_count": 160,
     "metadata": {},
     "output_type": "execute_result"
    }
   ],
   "source": [
    "generate_by_str(numbers_ops, target='expression')"
   ]
  },
  {
   "cell_type": "code",
   "execution_count": 161,
   "metadata": {},
   "outputs": [
    {
     "name": "stdout",
     "output_type": "stream",
     "text": [
      "你吃茶\n",
      "你喝茶\n",
      "你喝汽水\n",
      "我吃橘子\n",
      "我吃汽水\n",
      "你吃茶\n",
      "他吃橘子\n",
      "你吃橘子\n",
      "你吃橘子\n",
      "你吃茶\n"
     ]
    }
   ],
   "source": [
    "for _ in range(10):\n",
    "    print(generate_by_grammer(generate_grammer(sentence), target='句子'))"
   ]
  },
  {
   "cell_type": "code",
   "execution_count": 162,
   "metadata": {},
   "outputs": [],
   "source": [
    "#在西部世界里，一个”人类“的语言可以定义为：\n",
    "\n",
    "human = \"\"\"\n",
    "human = 自己 寻找 活动\n",
    "自己 = 我 | 俺 | 我们 \n",
    "寻找 = 找找 | 想找点 \n",
    "活动 = 乐子 | 玩的\n",
    "\"\"\"\n",
    "\n",
    "假如既然 = \"\"\"\n",
    "句子 = if someone state , then do something\n",
    "if = 既然 | 如果 | 假设\n",
    "someone = one 和 someone | one\n",
    "one = 小红 | 小蓝 | 小绿 | 白白\n",
    "state = 饿了 | 醒了 | 醉了 | 癫狂了\n",
    "then = 那么 | 就 | 可以\n",
    "do = 去  \n",
    "something = 吃饭 | 玩耍 | 去浪 | 睡觉\n",
    "\"\"\"\n",
    "\n",
    "#一个“接待员”的语言可以定义为\n",
    "\n",
    "host = \"\"\"\n",
    "host = 寒暄 报数 询问 业务相关 结尾 \n",
    "报数 = 我是 数字 号 ,\n",
    "数字 = 单个数字 | 数字 单个数字 \n",
    "单个数字 = 1 | 2 | 3 | 4 | 5 | 6 | 7 | 8 | 9 \n",
    "寒暄 = 称谓 打招呼 | 打招呼\n",
    "称谓 = 人称 ,\n",
    "人称 = 先生 | 女士 | 小朋友\n",
    "打招呼 = 你好 | 您好 \n",
    "询问 = 请问你要 | 您需要\n",
    "业务相关 = 具体业务\n",
    "具体业务 = 喝酒 | 打牌 | 打猎 | 赌博\n",
    "结尾 = 吗？\n",
    "\"\"\""
   ]
  },
  {
   "cell_type": "code",
   "execution_count": 190,
   "metadata": {},
   "outputs": [
    {
     "name": "stdout",
     "output_type": "stream",
     "text": [
      "俺想找点玩的\n",
      "俺想找点玩的\n",
      "我找找玩的\n",
      "我们想找点玩的\n",
      "俺想找点玩的\n",
      "如果白白和白白醒了,那么去睡觉\n",
      "既然小绿醉了,那么去玩耍\n",
      "假设白白和白白醒了,可以去睡觉\n",
      "假设小红醒了,就去睡觉\n",
      "如果小红和白白和白白和白白和小蓝和小蓝醉了,就去玩耍\n",
      "你好我是34758626号,请问你要打猎吗？\n",
      "女士,您好我是552号,请问你要打牌吗？\n",
      "女士,您好我是654号,请问你要打猎吗？\n",
      "你好我是638号,您需要打牌吗？\n",
      "您好我是22号,您需要打猎吗？\n"
     ]
    }
   ],
   "source": [
    "for _ in range(5):\n",
    "    print(generate_by_str(human, 'human', '='))\n",
    "for _ in range(5):\n",
    "    print(generate_by_str(假如既然, '句子', '='))\n",
    "for _ in range(5):\n",
    "    print(generate_by_str(host, 'host', '='))"
   ]
  },
  {
   "cell_type": "markdown",
   "metadata": {},
   "source": [
    "## Data Driven "
   ]
  },
  {
   "cell_type": "code",
   "execution_count": 184,
   "metadata": {},
   "outputs": [],
   "source": [
    "simpel_programming = '''\n",
    "programming => assignment logic_programming\n",
    "assignment => assign change_line assignment | assign change_line\n",
    "logic_programming => if_stmt | assign | while_loop\n",
    "while_loop => while { cond } { change_line stmt change_line }\n",
    "if_stmt => if { cond }  { change_line stmt change_line } | if { cond }  { change_line stmt change_line } else { change_line stmt change_line } \n",
    "change_line => /N\n",
    "cond => var op var\n",
    "op => | == | < | >= | <= | && | **\n",
    "stmt => assign | if_stmt\n",
    "assign => var = var\n",
    "var =>  var _ num | words \n",
    "words => words _ word | word \n",
    "word => name | info |  student | lib | database \n",
    "nums => nums num | num\n",
    "num => 1 | 2 | 3 | 4 | 5 | 6 | 7 | 8 | 9 | 0\n",
    "'''"
   ]
  },
  {
   "cell_type": "code",
   "execution_count": 185,
   "metadata": {},
   "outputs": [
    {
     "data": {
      "text/plain": [
       "'lib_5_3=name_6/Nname_lib_name_info=student_info_name_student_info_database'"
      ]
     },
     "execution_count": 185,
     "metadata": {},
     "output_type": "execute_result"
    }
   ],
   "source": [
    "generate_by_str(simpel_programming, 'programming', spliter='=>')"
   ]
  },
  {
   "cell_type": "code",
   "execution_count": 186,
   "metadata": {},
   "outputs": [],
   "source": [
    "def pretty_print(line):\n",
    "    # utility tool function\n",
    "    lines = line.split('/N')\n",
    "    \n",
    "    code_lines = []\n",
    "    \n",
    "    for i, sen in enumerate(lines):\n",
    "        if i < len(lines) / 2: \n",
    "            #print()\n",
    "            code_lines.append(i * \"  \" + sen)\n",
    "        else:\n",
    "            code_lines.append((len(lines) - i) * \" \" + sen)\n",
    "    \n",
    "    return code_lines"
   ]
  },
  {
   "cell_type": "code",
   "execution_count": 187,
   "metadata": {},
   "outputs": [],
   "source": [
    "generated_programming = []\n",
    "\n",
    "for i in range(20):\n",
    "    generated_programming += pretty_print(generate_by_str(simpel_programming, target='programming', spliter='=>'))"
   ]
  },
  {
   "cell_type": "code",
   "execution_count": 188,
   "metadata": {
    "collapsed": true
   },
   "outputs": [
    {
     "data": {
      "text/plain": [
       "['student=info',\n",
       " '  while{student<=student_name_4}{',\n",
       " '  lib_info_0_1_8_9=student_lib',\n",
       " ' }',\n",
       " 'name_9_7=student_6',\n",
       " '  database_5=name',\n",
       " ' name_1=student_database_student_database_database',\n",
       " 'name_name=database_name',\n",
       " ' name_0=student_student',\n",
       " 'student_2=database',\n",
       " '  database_lib_6_8=student_6_3',\n",
       " '    if{student_name_info**name_info_8_8_4_6}{',\n",
       " '      name=info',\n",
       " '        }else{',\n",
       " '          if{info_student<=database_name_name_1_2}{',\n",
       " '            if{name_name_8&&info_info}{',\n",
       " '              lib_4_9=database',\n",
       " '       }else{',\n",
       " '      lib_5_3_7=name',\n",
       " '     }',\n",
       " '    }else{',\n",
       " '   name_info_2_1_0=name_student',\n",
       " '  }',\n",
       " ' }',\n",
       " 'info=student_7_9',\n",
       " ' info_name_info_info_lib=database_database',\n",
       " 'info_lib=info_lib_info_5_6_9_7',\n",
       " '  name_student_lib_database_lib_7=database',\n",
       " '    while{lib_info**info_name}{',\n",
       " '      if{student_student_9_7**database_info_name_3_2_2}{',\n",
       " '        student=lib_info_3_5_2',\n",
       " '          }else{',\n",
       " '            if{database_8_7lib}{',\n",
       " '              if{name_info_info_7info_database_7}{',\n",
       " '                name=database_database_name',\n",
       " '                  }else{',\n",
       " '         if{database_1_5<=name_database_2_5}{',\n",
       " '        info=student_student_5_1',\n",
       " '       }else{',\n",
       " '      name=lib',\n",
       " '     }',\n",
       " '    }',\n",
       " '   }',\n",
       " '  }',\n",
       " ' }',\n",
       " 'lib_name_7=student_database_0',\n",
       " '  lib_lib=student_1_9',\n",
       " '    name_info_5_5=info_database_database_6_1_0',\n",
       " '      info_info_student_name=name_5',\n",
       " '        if{database_database_infodatabase_4}{',\n",
       " '          if{info_databaselib_3_5}{',\n",
       " '            if{lib&&info_name_lib_student}{',\n",
       " '              info_name_8_8_9=database',\n",
       " '                }else{',\n",
       " '                  if{database<student_7}{',\n",
       " '                    if{database&&lib_9_7_2}{',\n",
       " '                      lib_student=info_lib_9',\n",
       " '                        }else{',\n",
       " '                          database_2_3=student_name',\n",
       " '                            }',\n",
       " '                              }else{',\n",
       " '                                if{student_lib_student_student_7_2_5_2_3_7**name_name}{',\n",
       " '                                  if{student_database**name_student_info_database_lib_info_name}{',\n",
       " '                                    database_database_database=student_database_info_8_0_9',\n",
       " '                                      }',\n",
       " '                                        }',\n",
       " '                                          }',\n",
       " '                                            }',\n",
       " '                                              }else{',\n",
       " '                                                if{name<=lib}{',\n",
       " '                                                  if{info<database}{',\n",
       " '                                                    if{database==name_lib}{',\n",
       " '                                                      if{lib_0<info}{',\n",
       " '                                                        if{database_lib_infodatabase}{',\n",
       " '                                                          student_3=name_8_3_3_8',\n",
       " '                                                            }else{',\n",
       " '                                                              if{info_info_lib_8name_9_4}{',\n",
       " '                                                                if{database<database_0_4_3_6_5}{',\n",
       " '                                                                  student=database_info',\n",
       " '                                                                    }',\n",
       " '                                                                      }else{',\n",
       " '                                                                        if{student_student_name>=database}{',\n",
       " '                                    info_0_0=database_2_9',\n",
       " '                                   }',\n",
       " '                                  }',\n",
       " '                                 }',\n",
       " '                                }',\n",
       " '                               }else{',\n",
       " '                              if{info_0_9<=database_lib_5}{',\n",
       " '                             name_lib=student_7_0',\n",
       " '                            }else{',\n",
       " '                           name_info_0_4_7_7=lib_student_database_lib_8_9',\n",
       " '                          }',\n",
       " '                         }',\n",
       " '                        }',\n",
       " '                       }',\n",
       " '                      }',\n",
       " '                     }else{',\n",
       " '                    if{info_6&&student_student_lib_database_lib_5}{',\n",
       " '                   if{lib_0_2_9_7**database_database}{',\n",
       " '                  if{database_info_lib_database**name_lib_name_database_7}{',\n",
       " '                 database_name_database_database_name_lib_info=database',\n",
       " '                }',\n",
       " '               }else{',\n",
       " '              if{lib_student_info_8_5==student_name_database_info_student_lib_5}{',\n",
       " '             student_name_0=student',\n",
       " '            }',\n",
       " '           }',\n",
       " '          }else{',\n",
       " '         if{lib_student_database_database>=lib}{',\n",
       " '        if{info_database_5_1**name_database}{',\n",
       " '       if{database_student_info&&student_database_student}{',\n",
       " '      name_5_0=student_database_info_student_name_6_6',\n",
       " '     }',\n",
       " '    }',\n",
       " '   }',\n",
       " '  }',\n",
       " ' }',\n",
       " 'info_3_6=student_database_info_lib',\n",
       " '  if{lib_student_student_lib==database_8_8}{',\n",
       " '    if{info_9_7_0>=database_8_0_9}{',\n",
       " '      if{lib_0<database}{',\n",
       " '        if{lib_lib_studentstudent}{',\n",
       " '          if{info_4_0<student}{',\n",
       " '            student=database_4',\n",
       " '              }',\n",
       " '                }else{',\n",
       " '                  name_info_student_info_7=student_name_4',\n",
       " '                    }',\n",
       " '                      }else{',\n",
       " '                        if{lib**name}{',\n",
       " '                          student_8_0=database',\n",
       " '                            }else{',\n",
       " '                              if{student_student_liblib_info}{',\n",
       " '                                if{name_database_student&&student_info}{',\n",
       " '                                  student_2=lib',\n",
       " '                                    }else{',\n",
       " '                                      if{database_name_libstudent_student}{',\n",
       " '                                        lib_lib=lib_student_lib_9_1_2',\n",
       " '                                          }else{',\n",
       " '                                            if{name_database&&info_3}{',\n",
       " '                                              student_6_5_3=database_info_lib_student',\n",
       " '                                                }else{',\n",
       " '                                                  database_8=database_student_6_2',\n",
       " '                                                    }',\n",
       " '                                                      }',\n",
       " '                                                        }',\n",
       " '                                                          }else{',\n",
       " '                                                            if{name_student_lib_database_database_0==name}{',\n",
       " '                                                              if{info_name_lib_9<student_lib}{',\n",
       " '                                                                if{database_8_3**lib_lib_7}{',\n",
       " '                                                                  if{student**name_student}{',\n",
       " '                                                                    database_8=name_3_2_5_8_5_6',\n",
       " '                                                                      }else{',\n",
       " '                                                                        if{student_1info_3}{',\n",
       " '                                                                          if{database&&lib_name_8_8}{',\n",
       " '                                                                            database_info=student_student_info_0',\n",
       " '                                                                              }else{',\n",
       " '                                                                                if{student_4**student_9}{',\n",
       " '                                                                                  if{info_1_4_1_8==info_name_5_6_7}{',\n",
       " '                                                                                    info_lib_student_9_0=lib_student_info',\n",
       " '                                           }else{',\n",
       " '                                          if{info_name_namestudent_student_database_info_lib_6_7}{',\n",
       " '                                         if{info_6_9>=lib_3_4_8}{',\n",
       " '                                        name_database_4_3_6_2=info_student_0_4_9_0_0_4_7',\n",
       " '                                       }else{',\n",
       " '                                      if{info==student_student_info_info_5_4_5}{',\n",
       " '                                     if{studentstudent_2_1_2_0_8}{',\n",
       " '                                    name=student_2_1',\n",
       " '                                   }else{',\n",
       " '                                  info_database=student_6_7_8',\n",
       " '                                 }',\n",
       " '                                }else{',\n",
       " '                               info=student',\n",
       " '                              }',\n",
       " '                             }',\n",
       " '                            }',\n",
       " '                           }',\n",
       " '                          }',\n",
       " '                         }',\n",
       " '                        }else{',\n",
       " '                       if{lib==lib}{',\n",
       " '                      if{lib_7_5_1_2_3<info_5}{',\n",
       " '                     lib=student',\n",
       " '                    }',\n",
       " '                   }else{',\n",
       " '                  info_name_info_database_student_info_info=name_name_database',\n",
       " '                 }',\n",
       " '                }',\n",
       " '               }',\n",
       " '              }else{',\n",
       " '             if{lib_name>=database_database_name_database_student}{',\n",
       " '            lib_1=info_student_name_8',\n",
       " '           }',\n",
       " '          }',\n",
       " '         }else{',\n",
       " '        student=info_lib_name_1_3_0_9_1',\n",
       " '       }',\n",
       " '      }',\n",
       " '     }',\n",
       " '    }',\n",
       " '   }',\n",
       " '  }',\n",
       " ' }',\n",
       " 'database=lib_5_3_5_3_2_0',\n",
       " '  lib=info_database',\n",
       " '    database_6=student',\n",
       " '      student_1_1=database',\n",
       " '        if{lib_name_info_7_9_6_2**name_database}{',\n",
       " '          if{name_student_database_info&&name_8}{',\n",
       " '            if{lib_1_8**database_lib_info}{',\n",
       " '      database=name_lib_info_4',\n",
       " '     }',\n",
       " '    }else{',\n",
       " '   student_database_5=student_lib',\n",
       " '  }',\n",
       " ' }',\n",
       " 'database_8_0=name',\n",
       " '  while{info_3_6_1_9_2_2<student}{',\n",
       " '    if{database_info_name<=database}{',\n",
       " '      lib=student_name',\n",
       " '    }else{',\n",
       " '   name_student_6=name_2_5',\n",
       " '  }',\n",
       " ' }',\n",
       " 'database_lib_name_database_0_3=database_name_5_5',\n",
       " '  name_5=name_student_name_lib_name',\n",
       " '    student_7_0=info_5_6',\n",
       " '      lib_database_lib_database_database_4_7_2=student',\n",
       " '        while{database_name_info<name_database_lib_database_8_7}{',\n",
       " '          if{libstudent_student_student_database_8_1}{',\n",
       " '            info_student=student_database',\n",
       " '              }else{',\n",
       " '                if{info_info_database_student_lib_info_3>=student_7_1_3}{',\n",
       " '                  if{name_info&&name_2_8}{',\n",
       " '                    if{database_database_database&&lib_2_5}{',\n",
       " '                      student_name_info=student_student_name_database',\n",
       " '                        }else{',\n",
       " '                          lib=database_8',\n",
       " '                            }',\n",
       " '                              }else{',\n",
       " '                                if{database_student_5_0lib}{',\n",
       " '                                  if{database_1_4**lib_lib}{',\n",
       " '                                    if{database_student_2_1_9>=student_info_info_info_9_3}{',\n",
       " '                                      if{student_9_4>=lib_student_7_4_5_5_5_1_3_0_1_3}{',\n",
       " '                                        if{info<=database_database_lib_database_1_1_1_7_4_5}{',\n",
       " '                                          if{database_lib_info_info_lib_3_7_5**info}{',\n",
       " '                                            if{name_2<=student}{',\n",
       " '                                              lib=lib',\n",
       " '                                                }else{',\n",
       " '                                                  if{database_2_8>=student_student_name_info}{',\n",
       " '                                                    if{student_infodatabase_5_3}{',\n",
       " '                                                      lib_info=student_student_student_9',\n",
       " '                                                        }else{',\n",
       " '                                                          name_8=info',\n",
       " '                                                            }',\n",
       " '                                                              }else{',\n",
       " '                                                                if{lib_info<student_name_lib_student_info_lib_lib_name}{',\n",
       " '                                                                  student_5_6_7=info_database_student_info_2_0',\n",
       " '                                                                    }else{',\n",
       " '                                                                      lib_9=student',\n",
       " '                                                                        }',\n",
       " '                                                                          }',\n",
       " '                                                                            }',\n",
       " '                                                                              }',\n",
       " '                                                                                }else{',\n",
       " '                                                                                  database_info=name',\n",
       " '                                                                                    }',\n",
       " '                                                                                      }else{',\n",
       " '                                                                                        if{student_6_2student}{',\n",
       " '                                                                                          if{info<lib_database}{',\n",
       " '                                                                                            if{student_lib_database_name_info_name_5_1_3_7**student_lib_4_9}{',\n",
       " '                                              info_lib=info_9_3',\n",
       " '                                             }else{',\n",
       " '                                            if{info_lib_info_9_6student_3_3}{',\n",
       " '                                           if{infodatabase_student_2}{',\n",
       " '                                          if{name_2**lib_2_7}{',\n",
       " '                                         info_info_student=info_info_name_info',\n",
       " '                                        }else{',\n",
       " '                                       if{name_6_6>=student_info_2_7_2}{',\n",
       " '                                      student=name',\n",
       " '                                     }',\n",
       " '                                    }',\n",
       " '                                   }',\n",
       " '                                  }',\n",
       " '                                 }',\n",
       " '                                }',\n",
       " '                               }else{',\n",
       " '                              info_info_name_0=student_info_lib_name_2_1_6',\n",
       " '                             }',\n",
       " '                            }',\n",
       " '                           }else{',\n",
       " '                          if{student<lib_name_0_7}{',\n",
       " '                         if{student_student_2&&student_database_6_2_2_1}{',\n",
       " '                        if{name_1_2_6<info_4_4_3_7_9}{',\n",
       " '                       student=lib_info_student_9_7_7_3',\n",
       " '                      }else{',\n",
       " '                     student_student_name_lib_database_name_lib=student',\n",
       " '                    }',\n",
       " '                   }',\n",
       " '                  }',\n",
       " '                 }',\n",
       " '                }else{',\n",
       " '               info_student_1_3=student_7',\n",
       " '              }',\n",
       " '             }else{',\n",
       " '            if{database_lib_info_lib_info_database_4_9_9_9_2_9_3_1==lib_database_student_7_1_9_7}{',\n",
       " '           if{database&&name}{',\n",
       " '          name_database_lib_name_0=lib_5',\n",
       " '         }',\n",
       " '        }else{',\n",
       " '       info_student_student_8_0_4_6=lib_1_1',\n",
       " '      }',\n",
       " '     }',\n",
       " '    }',\n",
       " '   }',\n",
       " '  }',\n",
       " ' }',\n",
       " 'database_name=database',\n",
       " ' name_info=name_4',\n",
       " 'student_8=name_student',\n",
       " '  lib=student_9',\n",
       " '    lib_1_6=database',\n",
       " '  name_database=database',\n",
       " ' info_database=student',\n",
       " 'student=lib_8',\n",
       " '  student_name_lib_database_0_2_1_0=student',\n",
       " '  database_lib_lib_database=info_9',\n",
       " ' info=info_lib',\n",
       " 'database_info_lib_name_name_1_2=info_info_student_8',\n",
       " '  name=name_lib_lib_student',\n",
       " ' info_lib_1_9=info_student',\n",
       " 'database=student_1',\n",
       " '  student=student_0',\n",
       " '    info_info_info_student=name_database_7_6',\n",
       " '      name_3_3=name_database_name_6',\n",
       " '   if{lib_student_6<=name}{',\n",
       " '  lib=name_student_3',\n",
       " ' }',\n",
       " 'lib_lib_info_info_0=database_lib_lib_student_0_7_3_9',\n",
       " '  while{name_database_6_6lib_info_8}{',\n",
       " '    if{lib_name_name_database_info_9==lib}{',\n",
       " '   database_info=name_0',\n",
       " '  }',\n",
       " ' }',\n",
       " 'database_7_2=info_info_database_1',\n",
       " '  info_name_lib=name_info_name',\n",
       " ' database_3=database_database_6_4_1',\n",
       " 'info_4=name_student_lib_6',\n",
       " '  if{database<=database}{',\n",
       " '    if{database<=student}{',\n",
       " '      if{name_9<info_lib}{',\n",
       " '        if{student==lib_info}{',\n",
       " '          database_database=student',\n",
       " '            }else{',\n",
       " '              database_2_9=info_name_student_name_7_3',\n",
       " '                }',\n",
       " '                  }',\n",
       " '                    }',\n",
       " '           }else{',\n",
       " '          if{database_5_7&&info_4_5_8_2_2_8}{',\n",
       " '         database=database_8',\n",
       " '        }else{',\n",
       " '       if{database_5_9==name}{',\n",
       " '      info_student_5=database_9_6_9',\n",
       " '     }else{',\n",
       " '    name_database_lib_name_student=lib_database_student',\n",
       " '   }',\n",
       " '  }',\n",
       " ' }',\n",
       " 'lib_name=name',\n",
       " ' database_info_student=lib_student_database_info_name_info_name_student_5']"
      ]
     },
     "execution_count": 188,
     "metadata": {},
     "output_type": "execute_result"
    }
   ],
   "source": [
    "generated_programming"
   ]
  },
  {
   "cell_type": "markdown",
   "metadata": {},
   "source": [
    "# 计算机如何判断，那句话说得最对？\n",
    "## 10分钟之后继续~ 21:42分 \n",
    "## 形式语言 自然语言\n",
    "\n",
    "俺想找点玩的\n",
    "俺想找点玩的\n",
    "我找找玩的\n",
    "我们想找点玩的\n",
    "俺想找点玩的\n",
    "如果白白和白白醒了,那么去睡觉\n",
    "既然小绿醉了,那么去玩耍\n",
    "假设白白和白白醒了,可以去睡觉\n",
    "假设小红醒了,就去睡觉\n",
    "如果小红和白白和白白和白白和小蓝和小蓝醉了,就去玩耍\n",
    "你好我是34758626号,请问你要打猎吗？\n",
    "女士,您好我是552号,请问你要打牌吗？\n",
    "女士,您好我是654号,请问你要打猎吗？\n",
    "你好我是638号,您需要打牌吗？\n",
    "您好我是22号,您需要打猎吗？"
   ]
  },
  {
   "cell_type": "code",
   "execution_count": 191,
   "metadata": {},
   "outputs": [
    {
     "name": "stdout",
     "output_type": "stream",
     "text": [
      "Lecture-01-Syntax-Tree-and-Language-Model.ipynb\r\n",
      "Lesson-03-What-is-Model-and-Overfitting-Underfitting.pptx\r\n",
      "\u001b[31mUntitled 3.pages\u001b[m\u001b[m\r\n",
      "Untitled.ipynb\r\n",
      "article_9k.txt\r\n",
      "article_9k_cut.txt\r\n",
      "lesson01-for-2020-spring.pdf\r\n",
      "preperation-01.pdf\r\n",
      "~$Lesson-03-What-is-Model-and-Overfitting-Underfitting.pptx\r\n"
     ]
    }
   ],
   "source": [
    "!ls"
   ]
  },
  {
   "cell_type": "code",
   "execution_count": 192,
   "metadata": {},
   "outputs": [],
   "source": [
    "ARTILES = open('article_9k.txt').read()    "
   ]
  },
  {
   "cell_type": "code",
   "execution_count": 193,
   "metadata": {},
   "outputs": [
    {
     "data": {
      "text/plain": [
       "33425826"
      ]
     },
     "execution_count": 193,
     "metadata": {},
     "output_type": "execute_result"
    }
   ],
   "source": [
    "len(ARTILES)"
   ]
  },
  {
   "cell_type": "code",
   "execution_count": 195,
   "metadata": {},
   "outputs": [
    {
     "data": {
      "text/plain": [
       "'此外自本周6月12日起除小米手机6等15款机型外其余机型已暂停更新发布含开发版体验版内测稳定版暂不受影响以确保工程师可以集中全部精力进行系统优化工作有人猜测这也是将精力主要用到MIUI9的研发之中MI'"
      ]
     },
     "execution_count": 195,
     "metadata": {},
     "output_type": "execute_result"
    }
   ],
   "source": [
    "ARTILES[:100]"
   ]
  },
  {
   "cell_type": "code",
   "execution_count": 196,
   "metadata": {},
   "outputs": [],
   "source": [
    "import jieba"
   ]
  },
  {
   "cell_type": "code",
   "execution_count": 199,
   "metadata": {},
   "outputs": [],
   "source": [
    "def cut(string): return list(jieba.cut(string))"
   ]
  },
  {
   "cell_type": "code",
   "execution_count": 200,
   "metadata": {},
   "outputs": [
    {
     "name": "stderr",
     "output_type": "stream",
     "text": [
      "Building prefix dict from the default dictionary ...\n",
      "Dumping model to file cache /var/folders/t4/cqwq7kjd23zb1pddhb8858rh0000gn/T/jieba.cache\n",
      "Loading model cost 0.952 seconds.\n",
      "Prefix dict has been built succesfully.\n"
     ]
    },
    {
     "data": {
      "text/plain": [
       "['我', '是', '一只', '小狗']"
      ]
     },
     "execution_count": 200,
     "metadata": {},
     "output_type": "execute_result"
    }
   ],
   "source": [
    "cut('我是一只小狗')"
   ]
  },
  {
   "cell_type": "code",
   "execution_count": 201,
   "metadata": {},
   "outputs": [],
   "source": [
    "ALL_TOKENS = cut(ARTILES)"
   ]
  },
  {
   "cell_type": "code",
   "execution_count": 203,
   "metadata": {},
   "outputs": [
    {
     "data": {
      "text/plain": [
       "['此外', '自', '本周', '6', '月', '12', '日起', '除', '小米', '手机']"
      ]
     },
     "execution_count": 203,
     "metadata": {},
     "output_type": "execute_result"
    }
   ],
   "source": [
    "ALL_TOKENS[:10]"
   ]
  },
  {
   "cell_type": "code",
   "execution_count": 204,
   "metadata": {},
   "outputs": [],
   "source": [
    "from collections import Counter"
   ]
  },
  {
   "cell_type": "code",
   "execution_count": 205,
   "metadata": {},
   "outputs": [],
   "source": [
    "word_counts = Counter(ALL_TOKENS)"
   ]
  },
  {
   "cell_type": "code",
   "execution_count": 206,
   "metadata": {
    "collapsed": true
   },
   "outputs": [
    {
     "data": {
      "text/plain": [
       "[('的', 703716),\n",
       " ('n', 382020),\n",
       " ('在', 263597),\n",
       " ('月', 189330),\n",
       " ('日', 166300),\n",
       " ('新华社', 142462),\n",
       " ('和', 134061),\n",
       " ('年', 123106),\n",
       " ('了', 121938),\n",
       " ('是', 100909),\n",
       " ('\\n', 89611),\n",
       " ('１', 88187),\n",
       " ('０', 84945),\n",
       " ('外代', 83268),\n",
       " ('中', 73926),\n",
       " ('中国', 71179),\n",
       " ('２', 70521),\n",
       " ('2017', 69894),\n",
       " ('记者', 62147),\n",
       " ('二线', 61998),\n",
       " ('将', 61420),\n",
       " ('与', 58309),\n",
       " ('等', 58162),\n",
       " ('为', 57019),\n",
       " ('5', 54578),\n",
       " ('照片', 52271),\n",
       " ('4', 51626),\n",
       " ('对', 50317),\n",
       " ('上', 47452),\n",
       " ('也', 47401),\n",
       " ('有', 45767),\n",
       " ('５', 40857),\n",
       " ('说', 39017),\n",
       " ('发展', 37632),\n",
       " ('他', 37194),\n",
       " ('３', 36906),\n",
       " ('以', 36867),\n",
       " ('国际', 35842),\n",
       " ('nn', 35330),\n",
       " ('４', 34659),\n",
       " ('比赛', 32232),\n",
       " ('６', 30575),\n",
       " ('到', 30109),\n",
       " ('人', 29572),\n",
       " ('从', 29489),\n",
       " ('6', 29002),\n",
       " ('都', 28027),\n",
       " ('不', 27963),\n",
       " ('后', 27393),\n",
       " ('当日', 27186),\n",
       " ('就', 26684),\n",
       " ('并', 26568),\n",
       " ('国家', 26439),\n",
       " ('７', 26386),\n",
       " ('企业', 26147),\n",
       " ('进行', 25987),\n",
       " ('3', 25491),\n",
       " ('美国', 25485),\n",
       " ('举行', 25389),\n",
       " ('被', 25277),\n",
       " ('北京', 25245),\n",
       " ('体育', 24873),\n",
       " ('2', 24376),\n",
       " ('1', 24182),\n",
       " ('这', 24118),\n",
       " ('新', 23828),\n",
       " ('但', 23385),\n",
       " ('比', 23229),\n",
       " ('个', 23081),\n",
       " ('足球', 22554),\n",
       " ('表示', 22134),\n",
       " ('经济', 22006),\n",
       " ('我', 21940),\n",
       " ('一个', 21932),\n",
       " ('９', 21920),\n",
       " ('还', 21861),\n",
       " ('合作', 21567),\n",
       " ('要', 21045),\n",
       " ('n5', 20946),\n",
       " ('已', 20882),\n",
       " ('摄', 20837),\n",
       " ('８', 20701),\n",
       " ('工作', 20700),\n",
       " ('n4', 20658),\n",
       " ('选手', 19986),\n",
       " ('我们', 19982),\n",
       " ('市场', 19001),\n",
       " ('一路', 18978),\n",
       " ('一带', 18907),\n",
       " ('建设', 18634),\n",
       " ('让', 18609),\n",
       " ('日电', 18384),\n",
       " ('通过', 18159),\n",
       " ('多', 17760),\n",
       " ('时', 17750),\n",
       " ('完', 17424),\n",
       " ('于', 17421),\n",
       " ('问题', 17338),\n",
       " ('更', 17275),\n",
       " ('项目', 17260)]"
      ]
     },
     "execution_count": 206,
     "metadata": {},
     "output_type": "execute_result"
    }
   ],
   "source": [
    "word_counts.most_common(100)"
   ]
  },
  {
   "cell_type": "code",
   "execution_count": 207,
   "metadata": {},
   "outputs": [],
   "source": [
    "frequencies = [f for w, f in word_counts.most_common(100)]"
   ]
  },
  {
   "cell_type": "code",
   "execution_count": 208,
   "metadata": {},
   "outputs": [],
   "source": [
    "x = [i for i in range(100)]"
   ]
  },
  {
   "cell_type": "code",
   "execution_count": 210,
   "metadata": {},
   "outputs": [],
   "source": [
    "%matplotlib inline"
   ]
  },
  {
   "cell_type": "code",
   "execution_count": 211,
   "metadata": {},
   "outputs": [],
   "source": [
    "import matplotlib.pyplot as plt"
   ]
  },
  {
   "cell_type": "code",
   "execution_count": 212,
   "metadata": {},
   "outputs": [
    {
     "data": {
      "text/plain": [
       "[<matplotlib.lines.Line2D at 0x111d3de10>]"
      ]
     },
     "execution_count": 212,
     "metadata": {},
     "output_type": "execute_result"
    },
    {
     "data": {
      "image/png": "[encoded data removed]",
      "text/plain": [
       "<Figure size 432x288 with 1 Axes>"
      ]
     },
     "metadata": {
      "needs_background": "light"
     },
     "output_type": "display_data"
    }
   ],
   "source": [
    "plt.plot(x, frequencies)"
   ]
  },
  {
   "cell_type": "markdown",
   "metadata": {},
   "source": [
    "# 只要你的数据量足够大, 那么，出现次数第N多的单词，是出现次数最多的单词的频率的 1/N"
   ]
  },
  {
   "cell_type": "markdown",
   "metadata": {},
   "source": [
    "## 语言模型"
   ]
  },
  {
   "cell_type": "markdown",
   "metadata": {},
   "source": [
    "$language-model = Pr(sentence)$ "
   ]
  },
  {
   "cell_type": "markdown",
   "metadata": {},
   "source": [
    "## 1-gram"
   ]
  },
  {
   "cell_type": "code",
   "execution_count": 213,
   "metadata": {},
   "outputs": [],
   "source": [
    "most_common_500 = [w for w, f in word_counts.most_common(500)]"
   ]
  },
  {
   "cell_type": "code",
   "execution_count": 228,
   "metadata": {},
   "outputs": [],
   "source": [
    "most_common_to_10000_100500 = [w for w, f in word_counts.most_common(50000)][500:]"
   ]
  },
  {
   "cell_type": "code",
   "execution_count": 233,
   "metadata": {},
   "outputs": [
    {
     "data": {
      "text/plain": [
       "'第现在主场你好随着当日这种介绍正在'"
      ]
     },
     "execution_count": 233,
     "metadata": {},
     "output_type": "execute_result"
    }
   ],
   "source": [
    "''.join(random.sample(most_common_500, k=10))"
   ]
  },
  {
   "cell_type": "code",
   "execution_count": 231,
   "metadata": {},
   "outputs": [
    {
     "data": {
      "text/plain": [
       "'候选人确保青年创业朝鲜土耳其对接分钟起来纽约'"
      ]
     },
     "execution_count": 231,
     "metadata": {},
     "output_type": "execute_result"
    }
   ],
   "source": [
    "''.join(random.sample(most_common_500_to_1000, k=10))"
   ]
  },
  {
   "cell_type": "markdown",
   "metadata": {},
   "source": [
    "## 1-gram"
   ]
  },
  {
   "cell_type": "markdown",
   "metadata": {},
   "source": [
    "## 我衡量一个句子的概率，我就简单说，这个句子的概率，就等于每个单词的概率，乘起来！"
   ]
  },
  {
   "cell_type": "markdown",
   "metadata": {},
   "source": [
    "$ Pr(sententence) = Pr(w_1 w_2.. w_n)$\n",
    "\n",
    "$ Pr(w1 w2 .. wn) = Pr(w1 | w_2 w_3 .. w_n)Pr(w_2 w_3 .. w_n)$\n",
    "$ Pr(w1 w2 .. wn) = Pr(w1 | w_2 w_3 .. w_n)Pr(w_2 | w_3 .. w_n) Pr( w_3 .. w_n)$\n",
    "$ Pr(w1 w2 .. wn) = Pr(w1 | w_2 w_3 .. w_n)Pr(w_2 | w_3 .. w_n).. Pr( w_{n-1} | w_n)Pr(w_n)$"
   ]
  },
  {
   "cell_type": "markdown",
   "metadata": {},
   "source": [
    "Pr(AB) = Pr(A|B)Pr(B)\n",
    "\n",
    "#### Pr(A|B) = Pr(A) => A 和 B 两者无关\n",
    "\n",
    "#### Pr(你明天上班迟到 | 南非总统今天喝牛奶) != Pr(你明天上班迟到)\n",
    "\n",
    "#### Pr(你明天上班迟到 | 南非总统今天喝牛奶) == Pr(你明天上班迟到)"
   ]
  },
  {
   "cell_type": "markdown",
   "metadata": {},
   "source": [
    "$ Pr(w1 w2 .. wn) = Pr(w1 | w_2 w_3 .. w_n)Pr(w_2 | w_3 .. w_n).. Pr( w_{n-1} | w_n)Pr(w_n)$\n",
    "\n",
    "$ one-gram = Pr(w1 w2 .. wn) = Pr(w1)Pr(w_2).. Pr( w_{n-1})Pr(w_n)$"
   ]
  },
  {
   "cell_type": "code",
   "execution_count": 265,
   "metadata": {},
   "outputs": [],
   "source": [
    "min_frequences= min([f for w, f in word_counts.most_common()])\n",
    "\n",
    "def prob_1(word):\n",
    "    # out of vocabulary \n",
    "    if word in word_counts: \n",
    "        return word_counts[word] / len(ALL_TOKENS)\n",
    "    else:\n",
    "        return min_frequences / len(ALL_TOKENS)"
   ]
  },
  {
   "cell_type": "code",
   "execution_count": 266,
   "metadata": {},
   "outputs": [
    {
     "data": {
      "text/plain": [
       "0.004040071167097489"
      ]
     },
     "execution_count": 266,
     "metadata": {},
     "output_type": "execute_result"
    }
   ],
   "source": [
    "prob_1('中国')"
   ]
  },
  {
   "cell_type": "code",
   "execution_count": 244,
   "metadata": {},
   "outputs": [
    {
     "data": {
      "text/plain": [
       "0.0014465111014973448"
      ]
     },
     "execution_count": 244,
     "metadata": {},
     "output_type": "execute_result"
    }
   ],
   "source": [
    "prob_1('美国')"
   ]
  },
  {
   "cell_type": "code",
   "execution_count": 245,
   "metadata": {},
   "outputs": [],
   "source": [
    "from functools import reduce"
   ]
  },
  {
   "cell_type": "code",
   "execution_count": 250,
   "metadata": {},
   "outputs": [],
   "source": [
    "from operator import mul"
   ]
  },
  {
   "cell_type": "code",
   "execution_count": 251,
   "metadata": {},
   "outputs": [
    {
     "data": {
      "text/plain": [
       "5760"
      ]
     },
     "execution_count": 251,
     "metadata": {},
     "output_type": "execute_result"
    }
   ],
   "source": [
    "reduce(mul, [1, 2, 3, 4, 5, 6, 8])"
   ]
  },
  {
   "cell_type": "code",
   "execution_count": 252,
   "metadata": {},
   "outputs": [],
   "source": [
    "def _1_gram(sentence):\n",
    "    words = cut(sentence)\n",
    "    \n",
    "    return reduce(mul, [prob_1(w) for w in words])"
   ]
  },
  {
   "cell_type": "code",
   "execution_count": 263,
   "metadata": {},
   "outputs": [
    {
     "data": {
      "text/plain": [
       "7.7820177302833e-12"
      ]
     },
     "execution_count": 263,
     "metadata": {},
     "output_type": "execute_result"
    }
   ],
   "source": [
    "_1_gram('我今天回家')"
   ]
  },
  {
   "cell_type": "code",
   "execution_count": 264,
   "metadata": {},
   "outputs": [
    {
     "data": {
      "text/plain": [
       "1.7146818727742862e-12"
      ]
     },
     "execution_count": 264,
     "metadata": {},
     "output_type": "execute_result"
    }
   ],
   "source": [
    "_1_gram('我今天西瓜')"
   ]
  },
  {
   "cell_type": "markdown",
   "metadata": {},
   "source": [
    "$ Pr(w1 w2 .. wn) = Pr(w1 | w_2 w_3 .. w_n)Pr(w_2 | w_3 .. w_n).. Pr( w_{n-1} | w_n)Pr(w_n)$"
   ]
  },
  {
   "cell_type": "code",
   "execution_count": null,
   "metadata": {},
   "outputs": [],
   "source": [
    "Pr(你 | 今天) = count(你今天) / count(今天)"
   ]
  },
  {
   "cell_type": "markdown",
   "metadata": {},
   "source": [
    "$ two-gram = Pr(w1*w2 .. wn) = Pr(w1 | w_2)Pr(w_2 | w_3).. Pr( w_{n-1} | w_n)Pr(w_n)$\n",
    "$ two-gram = Pr(w1*w2 .. wn) = \\prod_i^n \\frac{count(w_iw_{i+1})}{count(w_{i+1})} Pr(w_n)$"
   ]
  },
  {
   "cell_type": "code",
   "execution_count": 269,
   "metadata": {},
   "outputs": [],
   "source": [
    "TOKEN_2_GRAM = [''.join(ALL_TOKENS[i:i+2]) for i in range(len(ALL_TOKENS[:-2]))]"
   ]
  },
  {
   "cell_type": "code",
   "execution_count": 273,
   "metadata": {},
   "outputs": [
    {
     "data": {
      "text/plain": [
       "17618254"
      ]
     },
     "execution_count": 273,
     "metadata": {},
     "output_type": "execute_result"
    }
   ],
   "source": [
    "len(ALL_TOKENS)"
   ]
  },
  {
   "cell_type": "code",
   "execution_count": 274,
   "metadata": {},
   "outputs": [
    {
     "data": {
      "text/plain": [
       "17618252"
      ]
     },
     "execution_count": 274,
     "metadata": {},
     "output_type": "execute_result"
    }
   ],
   "source": [
    "len(TOKEN_2_GRAM)"
   ]
  },
  {
   "cell_type": "code",
   "execution_count": 271,
   "metadata": {
    "collapsed": true
   },
   "outputs": [
    {
     "data": {
      "text/plain": [
       "['6等',\n",
       " '等15',\n",
       " '15款',\n",
       " '款机型',\n",
       " '机型外',\n",
       " '外其余',\n",
       " '其余机型',\n",
       " '机型已',\n",
       " '已暂停',\n",
       " '暂停更新',\n",
       " '更新发布',\n",
       " '发布含',\n",
       " '含开发',\n",
       " '开发版',\n",
       " '版体验版',\n",
       " '体验版内测',\n",
       " '内测稳定版',\n",
       " '稳定版暂不受',\n",
       " '暂不受影响',\n",
       " '影响以',\n",
       " '以确保',\n",
       " '确保工程师',\n",
       " '工程师可以',\n",
       " '可以集中',\n",
       " '集中全部',\n",
       " '全部精力',\n",
       " '精力进行',\n",
       " '进行系统优化',\n",
       " '系统优化工作',\n",
       " '工作有人',\n",
       " '有人猜测',\n",
       " '猜测这',\n",
       " '这也',\n",
       " '也是',\n",
       " '是将',\n",
       " '将精力',\n",
       " '精力主要',\n",
       " '主要用到',\n",
       " '用到MIUI9',\n",
       " 'MIUI9的',\n",
       " '的研发',\n",
       " '研发之中',\n",
       " '之中MIUI8',\n",
       " 'MIUI8去年',\n",
       " '去年5',\n",
       " '5月',\n",
       " '月发布',\n",
       " '发布距今已有',\n",
       " '距今已有一年',\n",
       " '一年有余',\n",
       " '有余也',\n",
       " '也是',\n",
       " '是时候',\n",
       " '时候更新换代',\n",
       " '更新换代了',\n",
       " '了当然',\n",
       " '当然关于',\n",
       " '关于MIUI9',\n",
       " 'MIUI9的',\n",
       " '的确切',\n",
       " '确切信息',\n",
       " '信息我们',\n",
       " '我们还是',\n",
       " '还是等待',\n",
       " '等待官方消息',\n",
       " '官方消息\\n',\n",
       " '\\n骁龙',\n",
       " '骁龙835',\n",
       " '835作为',\n",
       " '作为唯一',\n",
       " '唯一通过',\n",
       " '通过Windows10',\n",
       " 'Windows10桌面',\n",
       " '桌面平台',\n",
       " '平台认证',\n",
       " '认证的',\n",
       " '的ARM',\n",
       " 'ARM处理器',\n",
       " '处理器高通',\n",
       " '高通强调',\n",
       " '强调不会',\n",
       " '不会因为',\n",
       " '因为只',\n",
       " '只考虑',\n",
       " '考虑性能',\n",
       " '性能而',\n",
       " '而去',\n",
       " '去屏蔽掉',\n",
       " '屏蔽掉小',\n",
       " '小核心',\n",
       " '核心相反',\n",
       " '相反他们',\n",
       " '他们正',\n",
       " '正联手',\n",
       " '联手微软',\n",
       " '微软找到',\n",
       " '找到一种',\n",
       " '一种适合',\n",
       " '适合桌面',\n",
       " '桌面平台',\n",
       " '平台的',\n",
       " '的兼顾',\n",
       " '兼顾性能',\n",
       " '性能和',\n",
       " '和功耗',\n",
       " '功耗的',\n",
       " '的完美',\n",
       " '完美方案',\n",
       " '方案报道',\n",
       " '报道称',\n",
       " '称微软',\n",
       " '微软已经',\n",
       " '已经拿到',\n",
       " '拿到了',\n",
       " '了一些',\n",
       " '一些新',\n",
       " '新的',\n",
       " '的源码',\n",
       " '源码以便',\n",
       " '以便Windows10',\n",
       " 'Windows10更好',\n",
       " '更好地',\n",
       " '地理解',\n",
       " '理解biglittle',\n",
       " 'biglittle架构',\n",
       " '架构资料',\n",
       " '资料显示',\n",
       " '显示骁龙',\n",
       " '骁龙835',\n",
       " '835作为',\n",
       " '作为一款',\n",
       " '一款集成',\n",
       " '集成了',\n",
       " '了CPUGPU',\n",
       " 'CPUGPU基带',\n",
       " '基带蓝牙',\n",
       " '蓝牙WiFi',\n",
       " 'WiFi的',\n",
       " '的SoC',\n",
       " 'SoC比',\n",
       " '比传统',\n",
       " '传统的',\n",
       " '的Wintel',\n",
       " 'Wintel方案',\n",
       " '方案可以',\n",
       " '可以节省',\n",
       " '节省至少',\n",
       " '至少30',\n",
       " '30的',\n",
       " '的PCB',\n",
       " 'PCB空间',\n",
       " '空间按计划',\n",
       " '按计划今年',\n",
       " '今年Q4',\n",
       " 'Q4华硕',\n",
       " '华硕惠普',\n",
       " '惠普联想',\n",
       " '联想将',\n",
       " '将首发',\n",
       " '首发骁龙',\n",
       " '骁龙835Win10',\n",
       " '835Win10电脑',\n",
       " '电脑预计',\n",
       " '预计均',\n",
       " '均是',\n",
       " '是二合一',\n",
       " '二合一形态',\n",
       " '形态的',\n",
       " '的产品',\n",
       " '产品当然',\n",
       " '当然高通',\n",
       " '高通骁龙',\n",
       " '骁龙只是',\n",
       " '只是个',\n",
       " '个开始',\n",
       " '开始未来',\n",
       " '未来也许',\n",
       " '也许还',\n",
       " '还能',\n",
       " '能见到',\n",
       " '见到三星',\n",
       " '三星Exynos',\n",
       " 'Exynos联发科',\n",
       " '联发科华为',\n",
       " '华为麒麟',\n",
       " '麒麟小米',\n",
       " '小米澎湃',\n",
       " '澎湃等',\n",
       " '等进入',\n",
       " '进入Windows10',\n",
       " 'Windows10桌面',\n",
       " '桌面平台',\n",
       " '平台\\n',\n",
       " '\\n此前',\n",
       " '此前的',\n",
       " '的一加',\n",
       " '一加3T',\n",
       " '3T搭载',\n",
       " '搭载的',\n",
       " '的是',\n",
       " '是3400mAh',\n",
       " '3400mAh电池',\n",
       " '电池DashCharge',\n",
       " 'DashCharge快充',\n",
       " '快充规格',\n",
       " '规格为',\n",
       " '为5V4A',\n",
       " '5V4A至于',\n",
       " '至于电池',\n",
       " '电池缩水',\n",
       " '缩水可能',\n",
       " '可能与',\n",
       " '与刘作',\n",
       " '刘作虎',\n",
       " '虎所说',\n",
       " '所说一加',\n",
       " '一加手机',\n",
       " '手机5',\n",
       " '5要',\n",
       " '要做',\n",
       " '做市面',\n",
       " '市面最',\n",
       " '最轻薄',\n",
       " '轻薄大屏',\n",
       " '大屏旗舰',\n",
       " '旗舰的',\n",
       " '的设定',\n",
       " '设定有关',\n",
       " '有关按照',\n",
       " '按照目前',\n",
       " '目前掌握',\n",
       " '掌握的',\n",
       " '的资料',\n",
       " '资料一加',\n",
       " '一加手机',\n",
       " '手机5',\n",
       " '5拥有',\n",
       " '拥有55',\n",
       " '55寸',\n",
       " '寸1080P',\n",
       " '1080P三星',\n",
       " '三星AMOLED',\n",
       " 'AMOLED显示屏',\n",
       " '显示屏6G8GBRAM64GB128GBROM',\n",
       " '6G8GBRAM64GB128GBROM双',\n",
       " '双1600',\n",
       " '1600万',\n",
       " '万摄像头',\n",
       " '摄像头备货',\n",
       " '备货量',\n",
       " '量惊喜',\n",
       " '惊喜根据',\n",
       " '根据京东',\n",
       " '京东泄露',\n",
       " '泄露的',\n",
       " '的信息',\n",
       " '信息一加',\n",
       " '一加5',\n",
       " '5起',\n",
       " '起售价',\n",
       " '售价是',\n",
       " '是xx99',\n",
       " 'xx99元',\n",
       " '元应该',\n",
       " '应该是',\n",
       " '是在',\n",
       " '在279928992999',\n",
       " '279928992999中',\n",
       " '中的',\n",
       " '的某个',\n",
       " '某个\\n',\n",
       " '\\n这是',\n",
       " '这是6',\n",
       " '6月',\n",
       " '月18',\n",
       " '18日',\n",
       " '日在',\n",
       " '在葡萄牙',\n",
       " '葡萄牙中部',\n",
       " '中部大',\n",
       " '大佩德罗',\n",
       " '佩德罗冈',\n",
       " '冈地区',\n",
       " '地区拍摄',\n",
       " '拍摄的',\n",
       " '的被',\n",
       " '被森林',\n",
       " '森林大火',\n",
       " '大火烧毁',\n",
       " '烧毁的',\n",
       " '的汽车',\n",
       " '汽车新华社',\n",
       " '新华社记者',\n",
       " '记者张立',\n",
       " '张立云摄',\n",
       " '云摄\\n',\n",
       " '\\n原',\n",
       " '原标题',\n",
       " '标题44',\n",
       " '44岁',\n",
       " '岁女子',\n",
       " '女子跑',\n",
       " '跑深圳',\n",
       " '深圳约会',\n",
       " '约会网友',\n",
       " '网友被',\n",
       " '被拒',\n",
       " '拒暴雨',\n",
       " '暴雨中',\n",
       " '中裸身',\n",
       " '裸身奔走',\n",
       " '奔走深圳',\n",
       " '深圳交警',\n",
       " '交警微博称',\n",
       " '微博称昨日',\n",
       " '昨日清晨',\n",
       " '清晨交警',\n",
       " '交警发现',\n",
       " '发现有',\n",
       " '有一',\n",
       " '一女子',\n",
       " '女子赤裸',\n",
       " '赤裸上身',\n",
       " '上身行走',\n",
       " '行走在',\n",
       " '在南坪',\n",
       " '南坪快速',\n",
       " '快速上',\n",
       " '上期间',\n",
       " '期间还',\n",
       " '还起',\n",
       " '起了',\n",
       " '了轻生',\n",
       " '轻生年头',\n",
       " '年头一辅警',\n",
       " '一辅警发现',\n",
       " '发现后',\n",
       " '后赶紧',\n",
       " '赶紧为',\n",
       " '为其',\n",
       " '其披上',\n",
       " '披上黄衣',\n",
       " '黄衣并',\n",
       " '并一路',\n",
       " '一路劝说',\n",
       " '劝说她',\n",
       " '她那么',\n",
       " '那么事发',\n",
       " '事发时',\n",
       " '时到底',\n",
       " '到底都',\n",
       " '都发生',\n",
       " '发生了',\n",
       " '了些',\n",
       " '些什么',\n",
       " '什么呢',\n",
       " '呢南',\n",
       " '南都',\n",
       " '都记者',\n",
       " '记者带',\n",
       " '带您',\n",
       " '您一起',\n",
       " '一起还原',\n",
       " '还原现场',\n",
       " '现场南',\n",
       " '南都',\n",
       " '都记者',\n",
       " '记者在',\n",
       " '在龙岗',\n",
       " '龙岗大队',\n",
       " '大队坂田',\n",
       " '坂田中队',\n",
       " '中队见到',\n",
       " '见到了',\n",
       " '了辅警',\n",
       " '辅警刘青',\n",
       " '刘青发现',\n",
       " '发现女生',\n",
       " '女生的',\n",
       " '的辅警',\n",
       " '辅警一位',\n",
       " '一位外表',\n",
       " '外表高大',\n",
       " '高大帅气',\n",
       " '帅气说话',\n",
       " '说话略带',\n",
       " '略带些',\n",
       " '些腼腆',\n",
       " '腼腆的',\n",
       " '的90',\n",
       " '90后',\n",
       " '后青年',\n",
       " '青年刘青',\n",
       " '刘青介绍',\n",
       " '介绍6',\n",
       " '6月',\n",
       " '月16',\n",
       " '16日',\n",
       " '日早上',\n",
       " '早上7',\n",
       " '7时',\n",
       " '时36',\n",
       " '36分',\n",
       " '分他',\n",
       " '他正在',\n",
       " '正在环城',\n",
       " '环城南路',\n",
       " '南路附近',\n",
       " '附近值勤',\n",
       " '值勤接到',\n",
       " '接到中队',\n",
       " '中队关于',\n",
       " '关于一位',\n",
       " '一位女子',\n",
       " '女子裸身',\n",
       " '裸身进入',\n",
       " '进入机动车',\n",
       " '机动车可能',\n",
       " '可能有',\n",
       " '有危险',\n",
       " '危险的',\n",
       " '的警情',\n",
       " '警情随后',\n",
       " '随后骑着',\n",
       " '骑着小',\n",
       " '小铁骑',\n",
       " '铁骑开始',\n",
       " '开始沿路',\n",
       " '沿路寻找',\n",
       " '寻找大概',\n",
       " '大概花',\n",
       " '花了',\n",
       " '了十多分钟',\n",
       " '十多分钟在',\n",
       " '在南坪',\n",
       " '南坪大道',\n",
       " '大道坂田',\n",
       " '坂田出口',\n",
       " '出口往',\n",
       " '往龙岗',\n",
       " '龙岗方向',\n",
       " '方向的',\n",
       " '的逆行',\n",
       " '逆行辅道',\n",
       " '辅道上',\n",
       " '上发现',\n",
       " '发现该',\n",
       " '该女子',\n",
       " '女子女子',\n",
       " '女子身上',\n",
       " '身上一丝不挂',\n",
       " '一丝不挂地逆',\n",
       " '地逆车流',\n",
       " '车流而',\n",
       " '而行时',\n",
       " '行时走时',\n",
       " '走时停时',\n",
       " '停时坐时',\n",
       " '坐时躺',\n",
       " '躺险象环生',\n",
       " '险象环生刘青停',\n",
       " '刘青停好',\n",
       " '好小',\n",
       " '小铁骑',\n",
       " '铁骑和',\n",
       " '和另外',\n",
       " '另外一名',\n",
       " '一名巡防',\n",
       " '巡防员',\n",
       " '员追',\n",
       " '追了',\n",
       " '了上去',\n",
       " '上去发现',\n",
       " '发现女子',\n",
       " '女子的',\n",
       " '的情绪',\n",
       " '情绪很',\n",
       " '很低落',\n",
       " '低落话',\n",
       " '话不',\n",
       " '不多',\n",
       " '多刘青',\n",
       " '刘青尝试',\n",
       " '尝试和',\n",
       " '和女子',\n",
       " '女子交流',\n",
       " '交流劝说',\n",
       " '劝说女子',\n",
       " '女子离开',\n",
       " '离开可',\n",
       " '可女子',\n",
       " '女子并',\n",
       " '并不',\n",
       " '不愿意',\n",
       " '愿意接受',\n",
       " '接受继续',\n",
       " '继续缓慢',\n",
       " '缓慢地往',\n",
       " '地往南坪',\n",
       " '南坪快速路',\n",
       " '快速路的',\n",
       " '的主干道',\n",
       " '主干道上',\n",
       " '上走',\n",
       " '走去',\n",
       " '去此时',\n",
       " '此时路边',\n",
       " '路边上',\n",
       " '上已经',\n",
       " '已经聚集',\n",
       " '聚集了',\n",
       " '了很',\n",
       " '很市民',\n",
       " '市民围观',\n",
       " '围观为了',\n",
       " '为了不',\n",
       " '不刺激',\n",
       " '刺激女子',\n",
       " '女子的',\n",
       " '的情绪',\n",
       " '情绪刘青',\n",
       " '刘青和',\n",
       " '和巡防',\n",
       " '巡防员',\n",
       " '员一边',\n",
       " '一边盯',\n",
       " '盯着',\n",
       " '着女子',\n",
       " '女子一边',\n",
       " '一边驱赶',\n",
       " '驱赶着',\n",
       " '着围观',\n",
       " '围观的',\n",
       " '的群众',\n",
       " '群众现场',\n",
       " '现场还原',\n",
       " '还原从',\n",
       " '从警方',\n",
       " '警方提供',\n",
       " '提供的',\n",
       " '的一份',\n",
       " '一份视频',\n",
       " '视频了解',\n",
       " '了解到',\n",
       " '到16',\n",
       " '16日',\n",
       " '日早上',\n",
       " '早上7',\n",
       " '7时',\n",
       " '时25',\n",
       " '25分',\n",
       " '分女子',\n",
       " '女子出现',\n",
       " '出现在',\n",
       " '在坂雪岗',\n",
       " '坂雪岗大道',\n",
       " '大道与',\n",
       " '与环城',\n",
       " '环城南路',\n",
       " '南路的',\n",
       " '的监控',\n",
       " '监控视频',\n",
       " '视频中',\n",
       " '中此时',\n",
       " '此时女子',\n",
       " '女子还',\n",
       " '还穿着',\n",
       " '穿着白色',\n",
       " '白色的',\n",
       " '的内裤',\n",
       " '内裤正',\n",
       " '正沿着',\n",
       " '沿着坂雪岗',\n",
       " '坂雪岗大道',\n",
       " '大道往',\n",
       " '往南坪',\n",
       " '南坪快速',\n",
       " '快速的',\n",
       " '的方向',\n",
       " '方向缓慢',\n",
       " '缓慢地',\n",
       " '地走',\n",
       " '走着',\n",
       " '着当时',\n",
       " '当时正值',\n",
       " '正值上班',\n",
       " '上班高峰期',\n",
       " '高峰期十字路口',\n",
       " '十字路口的',\n",
       " '的车流',\n",
       " '车流已经',\n",
       " '已经排起',\n",
       " '排起了',\n",
       " '了长队',\n",
       " '长队当',\n",
       " '当女子',\n",
       " '女子出现',\n",
       " '出现时',\n",
       " '时路上',\n",
       " '路上的',\n",
       " '的市民',\n",
       " '市民纷纷',\n",
       " '纷纷驻足',\n",
       " '驻足观望',\n",
       " '观望不少',\n",
       " '不少车辆',\n",
       " '车辆也',\n",
       " '也放慢',\n",
       " '放慢了',\n",
       " '了速度',\n",
       " '速度但',\n",
       " '但女子',\n",
       " '女子并',\n",
       " '并不',\n",
       " '不为',\n",
       " '为市民',\n",
       " '市民观望',\n",
       " '观望停下',\n",
       " '停下脚步',\n",
       " '脚步依然',\n",
       " '依然缓慢',\n",
       " '缓慢走',\n",
       " '走着',\n",
       " '着当',\n",
       " '当女子',\n",
       " '女子行进',\n",
       " '行进到',\n",
       " '到十字路口',\n",
       " '十字路口中间',\n",
       " '中间时',\n",
       " '时一辆',\n",
       " '一辆大',\n",
       " '大货车',\n",
       " '货车挡住',\n",
       " '挡住了',\n",
       " '了镜头',\n",
       " '镜头但是',\n",
       " '但是当',\n",
       " '当女子',\n",
       " '女子再次出现',\n",
       " '再次出现镜头',\n",
       " '镜头时',\n",
       " '时可以',\n",
       " '可以发现',\n",
       " '发现女子',\n",
       " '女子已经',\n",
       " '已经没',\n",
       " '没穿',\n",
       " '穿内裤',\n",
       " '内裤了',\n",
       " '了全身',\n",
       " '全身裸露',\n",
       " '裸露继续',\n",
       " '继续朝着',\n",
       " '朝着南坪',\n",
       " '南坪快速',\n",
       " '快速方向',\n",
       " '方向走',\n",
       " '走去',\n",
       " '去记者',\n",
       " '记者发现',\n",
       " '发现视频',\n",
       " '视频中',\n",
       " '中女子',\n",
       " '女子周围',\n",
       " '周围并',\n",
       " '并没有',\n",
       " '没有人',\n",
       " '人尾随',\n",
       " '尾随或者',\n",
       " '或者上前',\n",
       " '上前劝止',\n",
       " '劝止的',\n",
       " '的市民',\n",
       " '市民一',\n",
       " '一大清早',\n",
       " '大清早路上',\n",
       " '路上看到',\n",
       " '看到这样',\n",
       " '这样的',\n",
       " '的情况',\n",
       " '情况恐怕',\n",
       " '恐怕大家',\n",
       " '大家都',\n",
       " '都没',\n",
       " '没办法',\n",
       " '办法淡定',\n",
       " '淡定面对',\n",
       " '面对这一',\n",
       " '这一情况',\n",
       " '情况刘青',\n",
       " '刘青表示',\n",
       " '表示一',\n",
       " '一开始',\n",
       " '开始根本',\n",
       " '根本不敢',\n",
       " '不敢看',\n",
       " '看她',\n",
       " '她心里',\n",
       " '心里挺',\n",
       " '挺别扭',\n",
       " '别扭感觉',\n",
       " '感觉很',\n",
       " '很尴尬',\n",
       " '尴尬但',\n",
       " '但当',\n",
       " '当刘青',\n",
       " '刘青跟随',\n",
       " '跟随女子',\n",
       " '女子上',\n",
       " '上了',\n",
       " '了南坪',\n",
       " '南坪快速路',\n",
       " '快速路主干道',\n",
       " '主干道时',\n",
       " '时女子',\n",
       " '女子作出',\n",
       " '作出了',\n",
       " '了让',\n",
       " '让人',\n",
       " '人意想不到',\n",
       " '意想不到的',\n",
       " '的举动',\n",
       " '举动她',\n",
       " '她突然',\n",
       " '突然靠近',\n",
       " '靠近护栏',\n",
       " '护栏要',\n",
       " '要从',\n",
       " '从上面',\n",
       " '上面跳下去',\n",
       " '跳下去刘青',\n",
       " '刘青赶忙',\n",
       " '赶忙冲上去',\n",
       " '冲上去拉住',\n",
       " '拉住了',\n",
       " '了女子',\n",
       " '女子的',\n",
       " '的手',\n",
       " '手将',\n",
       " '将其',\n",
       " '其控制',\n",
       " '控制住',\n",
       " '住并',\n",
       " '并远离',\n",
       " '远离护栏',\n",
       " '护栏碍于',\n",
       " '碍于女子',\n",
       " '女子没有',\n",
       " '没有穿衣服',\n",
       " '穿衣服刘青递',\n",
       " '刘青递上',\n",
       " '上衣服',\n",
       " '衣服女子',\n",
       " '女子没',\n",
       " '没接受',\n",
       " '接受还',\n",
       " '还把',\n",
       " '把衣服',\n",
       " '衣服扔',\n",
       " '扔到',\n",
       " '到排水沟',\n",
       " '排水沟里',\n",
       " '里继续',\n",
       " '继续往前走',\n",
       " '往前走没',\n",
       " '没办法',\n",
       " '办法刘青',\n",
       " '刘青只能',\n",
       " '只能紧紧',\n",
       " '紧紧拉',\n",
       " '拉着',\n",
       " '着她',\n",
       " '她的',\n",
       " '的一只',\n",
       " '一只手',\n",
       " '手跟',\n",
       " '跟在',\n",
       " '在后面',\n",
       " '后面刘青',\n",
       " '刘青一路上',\n",
       " '一路上耐心',\n",
       " '耐心地',\n",
       " '地开导',\n",
       " '开导安慰',\n",
       " '安慰她',\n",
       " '她但',\n",
       " '但只',\n",
       " '只听到',\n",
       " '听到她',\n",
       " '她不断',\n",
       " '不断地',\n",
       " '地重复',\n",
       " '重复着',\n",
       " '着一句',\n",
       " '一句话',\n",
       " '话要是',\n",
       " '要是你',\n",
       " '你也',\n",
       " '也遭遇',\n",
       " '遭遇我',\n",
       " '我的',\n",
       " '的事',\n",
       " '事你',\n",
       " '你也',\n",
       " '也会',\n",
       " '会这样',\n",
       " '这样的',\n",
       " '的期间',\n",
       " '期间她',\n",
       " '她还',\n",
       " '还不时',\n",
       " '不时试图',\n",
       " '试图挣脱',\n",
       " '挣脱刘青',\n",
       " '刘青的',\n",
       " '的手要',\n",
       " '手要冲向',\n",
       " '冲向护栏',\n",
       " '护栏往下跳',\n",
       " '往下跳就',\n",
       " '就这样',\n",
       " '这样我',\n",
       " '我被',\n",
       " '被牵',\n",
       " '牵着',\n",
       " '着走',\n",
       " '走了',\n",
       " '了大概',\n",
       " '大概十多分钟',\n",
       " '十多分钟天',\n",
       " '天突然',\n",
       " '突然下起',\n",
       " '下起了',\n",
       " '了大暴雨',\n",
       " '大暴雨雨大',\n",
       " '雨大的',\n",
       " '的连',\n",
       " '连眼睛',\n",
       " '眼睛都',\n",
       " '都睁不开',\n",
       " '睁不开刘青',\n",
       " '刘青继续',\n",
       " '继续说',\n",
       " '说着',\n",
       " '着瞬间',\n",
       " '瞬间他们',\n",
       " '他们就',\n",
       " '就被',\n",
       " '被雨',\n",
       " '雨透',\n",
       " '透了',\n",
       " '了但',\n",
       " '但女子',\n",
       " '女子依然',\n",
       " '依然不',\n",
       " '不愿意',\n",
       " '愿意接受',\n",
       " '接受刘青',\n",
       " '刘青的',\n",
       " '的帮助',\n",
       " '帮助就',\n",
       " '就继续',\n",
       " '继续冒',\n",
       " '冒着',\n",
       " '着大雨',\n",
       " '大雨往前走',\n",
       " '往前走大概',\n",
       " '大概走',\n",
       " '走了',\n",
       " '了有',\n",
       " '有四十分钟',\n",
       " '四十分钟吧',\n",
       " '吧女子',\n",
       " '女子突然',\n",
       " '突然停下',\n",
       " '停下来说',\n",
       " '来说我',\n",
       " '我想',\n",
       " '想回家',\n",
       " '回家了',\n",
       " '了然后',\n",
       " '然后女子',\n",
       " '女子也',\n",
       " '也接受',\n",
       " '接受了',\n",
       " '了刘青',\n",
       " '刘青递过来',\n",
       " '递过来的',\n",
       " '的小',\n",
       " '小黄衣',\n",
       " '黄衣就',\n",
       " '就出现',\n",
       " '出现了',\n",
       " '了深圳',\n",
       " '深圳微博上',\n",
       " '微博上的',\n",
       " '的照片',\n",
       " '照片女子',\n",
       " '女子披着',\n",
       " '披着小',\n",
       " '小黄衣',\n",
       " '黄衣刘青',\n",
       " '刘青小心翼翼',\n",
       " '小心翼翼地',\n",
       " '地在',\n",
       " '在旁边',\n",
       " '旁边走',\n",
       " '走着',\n",
       " '着的',\n",
       " '的场景',\n",
       " '场景从',\n",
       " '从南平',\n",
       " '南平快速',\n",
       " '快速下来',\n",
       " '下来后',\n",
       " '后刘青',\n",
       " '刘青和',\n",
       " '和巡防',\n",
       " '巡防员',\n",
       " '员将',\n",
       " '将女子',\n",
       " '女子带到',\n",
       " '带到了',\n",
       " '了附近',\n",
       " '附近的',\n",
       " '的坂田',\n",
       " '坂田派出所',\n",
       " '派出所那',\n",
       " '那姑娘',\n",
       " '姑娘到底',\n",
       " '到底是',\n",
       " '是遭遇',\n",
       " '遭遇了',\n",
       " '了什么样',\n",
       " '什么样的',\n",
       " '的事情',\n",
       " '事情才',\n",
       " '才会',\n",
       " '会说',\n",
       " '说要是',\n",
       " '要是你',\n",
       " '你也',\n",
       " '也遭遇',\n",
       " '遭遇我',\n",
       " '我的',\n",
       " '的事',\n",
       " '事你',\n",
       " '你也',\n",
       " '也会',\n",
       " '会这样',\n",
       " '这样据',\n",
       " '据警方',\n",
       " '警方透露',\n",
       " '透露该',\n",
       " '该女子',\n",
       " '女子姓',\n",
       " '姓陈系',\n",
       " '陈系湖北',\n",
       " '湖北人',\n",
       " '人今年',\n",
       " '今年44',\n",
       " '44岁',\n",
       " '岁据',\n",
       " '据家属',\n",
       " '家属反映',\n",
       " '反映其有',\n",
       " '其有精神病',\n",
       " '精神病史',\n",
       " '史三天',\n",
       " '三天前',\n",
       " '前陈某',\n",
       " '陈某从',\n",
       " '从老家',\n",
       " '老家来',\n",
       " '来深圳',\n",
       " '深圳约会',\n",
       " '约会网友',\n",
       " '网友但',\n",
       " '但约会',\n",
       " '约会受挫',\n",
       " '受挫导致',\n",
       " '导致情绪',\n",
       " '情绪异常',\n",
       " '异常女子',\n",
       " '女子遂',\n",
       " '遂产生',\n",
       " '产生轻生',\n",
       " '轻生念头',\n",
       " '念头目前',\n",
       " '目前陈某',\n",
       " '陈某已经',\n",
       " '已经被',\n",
       " '被送往',\n",
       " '送往深圳',\n",
       " '深圳某',\n",
       " '某精神病',\n",
       " '精神病医院',\n",
       " '医院进行',\n",
       " '进行治疗',\n",
       " ...]"
      ]
     },
     "execution_count": 271,
     "metadata": {},
     "output_type": "execute_result"
    }
   ],
   "source": [
    "TOKEN_2_GRAM[10:]"
   ]
  },
  {
   "cell_type": "code",
   "execution_count": 272,
   "metadata": {},
   "outputs": [
    {
     "data": {
      "text/plain": [
       "17618252"
      ]
     },
     "execution_count": 272,
     "metadata": {},
     "output_type": "execute_result"
    }
   ],
   "source": [
    "len(TOKEN_2_GRAM)"
   ]
  },
  {
   "cell_type": "code",
   "execution_count": 275,
   "metadata": {},
   "outputs": [],
   "source": [
    "word_count_2 = Counter(TOKEN_2_GRAM)"
   ]
  },
  {
   "cell_type": "markdown",
   "metadata": {},
   "source": [
    "$ two-gram = Pr(w1*w2 .. wn) = \\prod_i^n \\frac{count(w_iw_{i+1})}{count(w_{i+1})} Pr(w_n)$"
   ]
  },
  {
   "cell_type": "code",
   "execution_count": 288,
   "metadata": {},
   "outputs": [],
   "source": [
    "def prob_2(word1, word2):\n",
    "    combine = word1 + word2\n",
    "    if combine in word_count_2:\n",
    "        return word_count_2[combine] / word_counts[word2]\n",
    "    else: # out of vocabulary \n",
    "        return 1 / len(word_counts)\n",
    "        \n",
    "def _2_gram(sentence):\n",
    "    words = cut(sentence)\n",
    "    \n",
    "    prob = 1\n",
    "    \n",
    "    for i in range(len(words)-1):\n",
    "        word, next_word = words[i], words[i+1]\n",
    "        \n",
    "        prob *= prob_2(word, next_word)\n",
    "        \n",
    "    prob *= prob_1(words[-1])\n",
    "    \n",
    "    return prob"
   ]
  },
  {
   "cell_type": "code",
   "execution_count": 289,
   "metadata": {},
   "outputs": [
    {
     "data": {
      "text/plain": [
       "9.965693602135584e-14"
      ]
     },
     "execution_count": 289,
     "metadata": {},
     "output_type": "execute_result"
    }
   ],
   "source": [
    "_2_gram('中国发射了一枚火箭')"
   ]
  },
  {
   "cell_type": "code",
   "execution_count": 290,
   "metadata": {},
   "outputs": [
    {
     "data": {
      "text/plain": [
       "1.4567970386810924e-18"
      ]
     },
     "execution_count": 290,
     "metadata": {},
     "output_type": "execute_result"
    }
   ],
   "source": [
    "_2_gram('中国发射了一枚窗帘')"
   ]
  },
  {
   "cell_type": "code",
   "execution_count": 296,
   "metadata": {},
   "outputs": [],
   "source": [
    "need_compared = [\n",
    "    ('今天晚上请你吃大餐，我们一起吃日料', '今天晚上请你吃大餐，我们一起吃苹果'),\n",
    "    ('真是一只好看的小猫', '真事一只好看的小猫'),\n",
    "    ('今晚我去吃火锅', '今晚火锅去吃我'),\n",
    "    ('洋葱奶昔来一杯', '养乐多绿来一杯')\n",
    "]"
   ]
  },
  {
   "cell_type": "code",
   "execution_count": 297,
   "metadata": {},
   "outputs": [
    {
     "name": "stdout",
     "output_type": "stream",
     "text": [
      "Pr(今天晚上请你吃大餐，我们一起吃日料) = 1.5903389425741782e-45\n",
      "Pr(今天晚上请你吃大餐，我们一起吃苹果) = 8.703384317468003e-40\n",
      "Pr(真是一只好看的小猫) = 8.273018279582945e-22\n",
      "Pr(真事一只好看的小猫) = 3.0233993266831647e-27\n",
      "Pr(今晚我去吃火锅) = 1.7325227255339101e-18\n",
      "Pr(今晚火锅去吃我) = 1.4852604423993444e-20\n",
      "Pr(洋葱奶昔来一杯) = 7.580540796399728e-19\n",
      "Pr(养乐多绿来一杯) = 7.125708348615745e-17\n"
     ]
    }
   ],
   "source": [
    "for s1, s2 in need_compared:\n",
    "    print('Pr({}) = {}'.format(s1, _2_gram(s1)))\n",
    "    print('Pr({}) = {}'.format(s2, _2_gram(s2)))"
   ]
  },
  {
   "cell_type": "markdown",
   "metadata": {},
   "source": [
    "## 1. 数据思维 Data Driven \n",
    "## 2. 数学模型 -> 编程实现 "
   ]
  },
  {
   "cell_type": "markdown",
   "metadata": {},
   "source": [
    "# More Data, Better Result"
   ]
  }
 ],
 "metadata": {
  "kernelspec": {
   "display_name": "Python 3",
   "language": "python",
   "name": "python3"
  },
  "language_info": {
   "codemirror_mode": {
    "name": "ipython",
    "version": 3
   },
   "file_extension": ".py",
   "mimetype": "text/x-python",
   "name": "python",
   "nbconvert_exporter": "python",
   "pygments_lexer": "ipython3",
   "version": "3.7.3"
  }
 },
 "nbformat": 4,
 "nbformat_minor": 2
}
