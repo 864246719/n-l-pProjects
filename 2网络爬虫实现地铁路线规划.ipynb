{
 "cells": [
  {
   "cell_type": "markdown",
   "metadata": {},
   "source": [
    "## Lesson-02\n",
    "\n",
    "+ 深度优先与广度优先\n",
    "+ 爬虫的原理\n",
    "+ 机器学习的原理"
   ]
  },
  {
   "cell_type": "markdown",
   "metadata": {},
   "source": [
    "### OOV ? "
   ]
  },
  {
   "cell_type": "markdown",
   "metadata": {},
   "source": [
    "### Out of Vocabulary "
   ]
  },
  {
   "cell_type": "markdown",
   "metadata": {},
   "source": [
    "### Lambda "
   ]
  },
  {
   "cell_type": "code",
   "execution_count": 1,
   "metadata": {},
   "outputs": [],
   "source": [
    "import random"
   ]
  },
  {
   "cell_type": "code",
   "execution_count": 24,
   "metadata": {},
   "outputs": [],
   "source": [
    "\"\"\"adj* => adj* adj | adj null\"\"\"\n",
    "\n",
    "def adj():  return random.choice('蓝色的 | 好看的 | 小小的'.split('|')).split()[0]\n",
    "\n",
    "give_adjs = lambda : adj() + adj_star_2()\n",
    "give_null = lambda : ''\n",
    "def adj_star_2():\n",
    "    return random.choice([give_null, give_adjs])()\n",
    "    #return random.choice([lambda : '', lambda : adj() + adj_star_2()])()\n",
    "\n",
    "def adj_star(): # infite loop\n",
    "    return random.choice(['', adj() + adj_star()])"
   ]
  },
  {
   "cell_type": "code",
   "execution_count": 35,
   "metadata": {},
   "outputs": [
    {
     "data": {
      "text/plain": [
       "'小小的'"
      ]
     },
     "execution_count": 35,
     "metadata": {},
     "output_type": "execute_result"
    }
   ],
   "source": [
    "adj_star_2()"
   ]
  },
  {
   "cell_type": "code",
   "execution_count": 36,
   "metadata": {},
   "outputs": [],
   "source": [
    "def simple_func(x, y): \n",
    "    return x + y"
   ]
  },
  {
   "cell_type": "code",
   "execution_count": 13,
   "metadata": {},
   "outputs": [],
   "source": [
    "results = []\n",
    "\n",
    "\n",
    "for e in [1, 3, 5, 7, 9, 10]:\n",
    "    results.append(operate(e))"
   ]
  },
  {
   "cell_type": "code",
   "execution_count": 14,
   "metadata": {},
   "outputs": [
    {
     "data": {
      "text/plain": [
       "[-5, -1, 3, 7, 11, 13]"
      ]
     },
     "execution_count": 14,
     "metadata": {},
     "output_type": "execute_result"
    }
   ],
   "source": [
    "results"
   ]
  },
  {
   "cell_type": "code",
   "execution_count": 17,
   "metadata": {},
   "outputs": [
    {
     "name": "stdout",
     "output_type": "stream",
     "text": [
      "-5\n",
      "-1\n",
      "3\n",
      "7\n",
      "11\n",
      "13\n"
     ]
    }
   ],
   "source": [
    "#def operate(e): return e * 2 + 2 - 9\n",
    "\n",
    "for i in map(lambda x: x * 2 + 2 - 9, [1, 3, 5, 7, 9, 10]): \n",
    "    print(i)"
   ]
  },
  {
   "cell_type": "code",
   "execution_count": 18,
   "metadata": {},
   "outputs": [],
   "source": [
    "operator_2 = lambda x: x * 2 + 2 - 9\n",
    "#def operate(e): return e * 2 + 2 - 9"
   ]
  },
  {
   "cell_type": "code",
   "execution_count": 38,
   "metadata": {},
   "outputs": [],
   "source": [
    "def absolutly(x): \n",
    "    if x < 0: return -1 * x\n",
    "    else:\n",
    "        return x"
   ]
  },
  {
   "cell_type": "code",
   "execution_count": 40,
   "metadata": {},
   "outputs": [],
   "source": [
    "def mod_3(x): return x % 3"
   ]
  },
  {
   "cell_type": "code",
   "execution_count": 44,
   "metadata": {},
   "outputs": [
    {
     "data": {
      "text/plain": [
       "1"
      ]
     },
     "execution_count": 44,
     "metadata": {},
     "output_type": "execute_result"
    }
   ],
   "source": [
    "mod_3(13)"
   ]
  },
  {
   "cell_type": "code",
   "execution_count": 45,
   "metadata": {},
   "outputs": [
    {
     "data": {
      "text/plain": [
       "[3, 9, 9, 1, 4, 1, 1, 1, 4, 1, 5, -1, -19]"
      ]
     },
     "execution_count": 45,
     "metadata": {},
     "output_type": "execute_result"
    }
   ],
   "source": [
    "sorted([1, 3, 4, 1, 5, 1, 1, 4, 9, -1, 9, -19, 1], key=mod_3)"
   ]
  },
  {
   "cell_type": "code",
   "execution_count": 46,
   "metadata": {},
   "outputs": [
    {
     "data": {
      "text/plain": [
       "[3, 9, 9, 1, 4, 1, 1, 1, 4, 1, 5, -1, -19]"
      ]
     },
     "execution_count": 46,
     "metadata": {},
     "output_type": "execute_result"
    }
   ],
   "source": [
    "sorted([1, 3, 4, 1, 5, 1, 1, 4, 9, -1, 9, -19, 1], key=lambda x: x % 3)"
   ]
  },
  {
   "cell_type": "markdown",
   "metadata": {},
   "source": [
    "## Search Policy "
   ]
  },
  {
   "cell_type": "code",
   "execution_count": 47,
   "metadata": {},
   "outputs": [],
   "source": [
    "coordination_source = \"\"\"\n",
    "{name:'Lanzhou', geoCoord:[103.73, 36.03]},\n",
    "{name:'Jiayuguan', geoCoord:[98.17, 39.47]},\n",
    "{name:'Xining', geoCoord:[101.74, 36.56]},\n",
    "{name:'Chengdu', geoCoord:[104.06, 30.67]},\n",
    "{name:'Shijiazhuang', geoCoord:[114.48, 38.03]},\n",
    "{name:'Lasa', geoCoord:[102.73, 25.04]},\n",
    "{name:'Guiyang', geoCoord:[106.71, 26.57]},\n",
    "{name:'Wuhan', geoCoord:[114.31, 30.52]},\n",
    "{name:'Zhengzhou', geoCoord:[113.65, 34.76]},\n",
    "{name:'Jinan', geoCoord:[117, 36.65]},\n",
    "{name:'Nanjing', geoCoord:[118.78, 32.04]},\n",
    "{name:'Hefei', geoCoord:[117.27, 31.86]},\n",
    "{name:'Hangzhou', geoCoord:[120.19, 30.26]},\n",
    "{name:'Nanchang', geoCoord:[115.89, 28.68]},\n",
    "{name:'Fuzhou', geoCoord:[119.3, 26.08]},\n",
    "{name:'Guangzhou', geoCoord:[113.23, 23.16]},\n",
    "{name:'Changsha', geoCoord:[113, 28.21]},\n",
    "//{name:'海口', geoCoord:[110.35, 20.02]},\n",
    "{name:'Shengyang', geoCoord:[123.38, 41.8]},\n",
    "{name:'Changchun', geoCoord:[125.35, 43.88]},\n",
    "{name:'Haerbing', geoCoord:[126.63, 45.75]},\n",
    "{name:'Taiyuan', geoCoord:[112.53, 37.87]},\n",
    "{name:'Xian', geoCoord:[108.95, 34.27]},\n",
    "//{name:'Taiwan', geoCoord:[121.30, 25.03]},\n",
    "{name:'Beijing', geoCoord:[116.46, 39.92]},\n",
    "{name:'Shanghai', geoCoord:[121.48, 31.22]},\n",
    "{name:'Chongqing', geoCoord:[106.54, 29.59]},\n",
    "{name:'Tianjing', geoCoord:[117.2, 39.13]},\n",
    "{name:'Huhehaote', geoCoord:[111.65, 40.82]},\n",
    "{name:'Nanning', geoCoord:[108.33, 22.84]},\n",
    "//{name:'西藏', geoCoord:[91.11, 29.97]},\n",
    "{name:'Yingchuan', geoCoord:[106.27, 38.47]},\n",
    "{name:'Wulumuqi', geoCoord:[87.68, 43.77]},\n",
    "{name:'Xianggang', geoCoord:[114.17, 22.28]},\n",
    "{name:'Aomen', geoCoord:[113.54, 22.19]}\n",
    "\"\"\""
   ]
  },
  {
   "cell_type": "code",
   "execution_count": 118,
   "metadata": {},
   "outputs": [],
   "source": [
    "geo_pattern = \"{name:'(\\w+)',\\s+geoCoord:\\[(\\d+\\.\\d+),\\s+(\\d+\\.\\d+)\\]}\""
   ]
  },
  {
   "cell_type": "code",
   "execution_count": 120,
   "metadata": {},
   "outputs": [],
   "source": [
    "city_location = {}\n",
    "\n",
    "for city, x, y in re.findall(geo_pattern, coordination_source):\n",
    "    city_location[city] = (float(x), float(y))"
   ]
  },
  {
   "cell_type": "code",
   "execution_count": 121,
   "metadata": {},
   "outputs": [
    {
     "data": {
      "text/plain": [
       "{'Lanzhou': (103.73, 36.03),\n",
       " 'Jiayuguan': (98.17, 39.47),\n",
       " 'Xining': (101.74, 36.56),\n",
       " 'Chengdu': (104.06, 30.67),\n",
       " 'Shijiazhuang': (114.48, 38.03),\n",
       " 'Lasa': (102.73, 25.04),\n",
       " 'Guiyang': (106.71, 26.57),\n",
       " 'Wuhan': (114.31, 30.52),\n",
       " 'Zhengzhou': (113.65, 34.76),\n",
       " 'Nanjing': (118.78, 32.04),\n",
       " 'Hefei': (117.27, 31.86),\n",
       " 'Hangzhou': (120.19, 30.26),\n",
       " 'Nanchang': (115.89, 28.68),\n",
       " 'Fuzhou': (119.3, 26.08),\n",
       " 'Guangzhou': (113.23, 23.16),\n",
       " '海口': (110.35, 20.02),\n",
       " 'Shengyang': (123.38, 41.8),\n",
       " 'Changchun': (125.35, 43.88),\n",
       " 'Haerbing': (126.63, 45.75),\n",
       " 'Taiyuan': (112.53, 37.87),\n",
       " 'Xian': (108.95, 34.27),\n",
       " 'Taiwan': (121.3, 25.03),\n",
       " 'Beijing': (116.46, 39.92),\n",
       " 'Shanghai': (121.48, 31.22),\n",
       " 'Chongqing': (106.54, 29.59),\n",
       " 'Tianjing': (117.2, 39.13),\n",
       " 'Huhehaote': (111.65, 40.82),\n",
       " 'Nanning': (108.33, 22.84),\n",
       " '西藏': (91.11, 29.97),\n",
       " 'Yingchuan': (106.27, 38.47),\n",
       " 'Wulumuqi': (87.68, 43.77),\n",
       " 'Xianggang': (114.17, 22.28),\n",
       " 'Aomen': (113.54, 22.19)}"
      ]
     },
     "execution_count": 121,
     "metadata": {},
     "output_type": "execute_result"
    }
   ],
   "source": [
    "city_location"
   ]
  },
  {
   "cell_type": "code",
   "execution_count": 122,
   "metadata": {},
   "outputs": [],
   "source": [
    "cities = {c : [] for c in city_location}"
   ]
  },
  {
   "cell_type": "code",
   "execution_count": 133,
   "metadata": {},
   "outputs": [
    {
     "data": {
      "image/png": "[encoded data removed]",
      "text/plain": [
       "<Figure size 432x288 with 1 Axes>"
      ]
     },
     "metadata": {},
     "output_type": "display_data"
    }
   ],
   "source": [
    "nx.draw(nx.Graph(cities),city_location, with_labels=True, font_size=10, node_size=10)"
   ]
  },
  {
   "cell_type": "code",
   "execution_count": 147,
   "metadata": {},
   "outputs": [],
   "source": [
    "import math\n",
    "\n",
    "def geo_distance(origin, destination):\n",
    "    \"\"\"\n",
    "    Calculate the Haversine distance.\n",
    "\n",
    "    Parameters\n",
    "    ----------\n",
    "    origin : tuple of float\n",
    "        (lat#纬度-北纬南纬-y, long#经度-东经西经-x)\n",
    "    destination : tuple of float\n",
    "        (lat, long)\n",
    "\n",
    "    Returns\n",
    "    -------\n",
    "    distance_in_km : float\n",
    "\n",
    "    Examples\n",
    "    --------\n",
    "    >>> origin = (48.1372, 11.5756)  # Munich\n",
    "    >>> destination = (52.5186, 13.4083)  # Berlin\n",
    "    >>> round(distance(origin, destination), 1)\n",
    "    504.2\n",
    "    \"\"\"\n",
    "    #lat1, lon1 = origin\n",
    "    lon1, lat1 = origin\n",
    "    \n",
    "    #lat2, lon2 = destination\n",
    "    lon2, lat2 = destination\n",
    "    radius = 6371  # km\n",
    "\n",
    "    dlat = math.radians(lat2 - lat1)\n",
    "    dlon = math.radians(lon2 - lon1)\n",
    "    a = (math.sin(dlat / 2) * math.sin(dlat / 2) +\n",
    "         math.cos(math.radians(lat1)) * math.cos(math.radians(lat2)) *\n",
    "         math.sin(dlon / 2) * math.sin(dlon / 2))\n",
    "    c = 2 * math.atan2(math.sqrt(a), math.sqrt(1 - a))\n",
    "    d = radius * c\n",
    "\n",
    "    return d"
   ]
  },
  {
   "cell_type": "code",
   "execution_count": null,
   "metadata": {},
   "outputs": [],
   "source": []
  },
  {
   "cell_type": "code",
   "execution_count": 139,
   "metadata": {},
   "outputs": [
    {
     "data": {
      "text/plain": [
       "(116.46, 39.92)"
      ]
     },
     "execution_count": 139,
     "metadata": {},
     "output_type": "execute_result"
    }
   ],
   "source": [
    "city_location['Beijing']"
   ]
  },
  {
   "cell_type": "code",
   "execution_count": 140,
   "metadata": {},
   "outputs": [
    {
     "data": {
      "text/plain": [
       "(117.2, 39.13)"
      ]
     },
     "execution_count": 140,
     "metadata": {},
     "output_type": "execute_result"
    }
   ],
   "source": [
    "city_location['Tianjing']"
   ]
  },
  {
   "cell_type": "code",
   "execution_count": 142,
   "metadata": {},
   "outputs": [
    {
     "data": {
      "text/plain": [
       "(123.38, 41.8)"
      ]
     },
     "execution_count": 142,
     "metadata": {},
     "output_type": "execute_result"
    }
   ],
   "source": [
    "city_location['Shengyang']"
   ]
  },
  {
   "cell_type": "code",
   "execution_count": 143,
   "metadata": {},
   "outputs": [
    {
     "data": {
      "text/plain": [
       "(121.48, 31.22)"
      ]
     },
     "execution_count": 143,
     "metadata": {},
     "output_type": "execute_result"
    }
   ],
   "source": [
    "city_location['Shanghai']"
   ]
  },
  {
   "cell_type": "code",
   "execution_count": 141,
   "metadata": {},
   "outputs": [
    {
     "data": {
      "text/plain": [
       "91.33650798815006"
      ]
     },
     "execution_count": 141,
     "metadata": {},
     "output_type": "execute_result"
    }
   ],
   "source": [
    "geo_distance((116.46, 39.92), (117.2, 39.13))"
   ]
  },
  {
   "cell_type": "code",
   "execution_count": 144,
   "metadata": {},
   "outputs": [
    {
     "data": {
      "text/plain": [
       "664.4873799505449"
      ]
     },
     "execution_count": 144,
     "metadata": {},
     "output_type": "execute_result"
    }
   ],
   "source": [
    "## 平面上: P1: [123.38, 41.8]  P2: [121.48, 31.22]\n",
    "##  P1: [41.8, 123.38]  P2: [31.22, 121.48]\n",
    "\n",
    "geo_distance((123.38, 41.8), (121.48, 31.22))"
   ]
  },
  {
   "cell_type": "code",
   "execution_count": 145,
   "metadata": {},
   "outputs": [
    {
     "data": {
      "text/plain": [
       "1188.542685280185"
      ]
     },
     "execution_count": 145,
     "metadata": {},
     "output_type": "execute_result"
    }
   ],
   "source": [
    "geo_distance((41.8, 123.38), (31.22, 121.48))"
   ]
  },
  {
   "cell_type": "code",
   "execution_count": 150,
   "metadata": {},
   "outputs": [],
   "source": [
    "def get_city_distance(city1, city2):\n",
    "    return geo_distance(city_location[city1], city_location[city2])    "
   ]
  },
  {
   "cell_type": "code",
   "execution_count": 151,
   "metadata": {},
   "outputs": [
    {
     "data": {
      "text/plain": [
       "1068.1567232158195"
      ]
     },
     "execution_count": 151,
     "metadata": {},
     "output_type": "execute_result"
    }
   ],
   "source": [
    "get_city_distance('Beijing', 'Shanghai')"
   ]
  },
  {
   "cell_type": "code",
   "execution_count": 152,
   "metadata": {},
   "outputs": [
    {
     "data": {
      "text/plain": [
       "163.0760821403945"
      ]
     },
     "execution_count": 152,
     "metadata": {},
     "output_type": "execute_result"
    }
   ],
   "source": [
    "get_city_distance('Hangzhou', 'Shanghai')"
   ]
  },
  {
   "cell_type": "code",
   "execution_count": 158,
   "metadata": {},
   "outputs": [],
   "source": [
    "from collections import defaultdict"
   ]
  },
  {
   "cell_type": "code",
   "execution_count": 162,
   "metadata": {},
   "outputs": [],
   "source": [
    "threshold = 700\n",
    "\n",
    "#city_connection = {c : [] for c in city_location}\n",
    "city_connection = defaultdict(list)\n",
    "\n",
    "for city1 in city_location:\n",
    "    for city2 in city_location:\n",
    "        if city1 is city2: continue\n",
    "        \n",
    "        distance = get_city_distance(city1, city2)\n",
    "        \n",
    "        if distance < threshold:\n",
    "            city_connection[city1].append(city2)  "
   ]
  },
  {
   "cell_type": "code",
   "execution_count": 163,
   "metadata": {
    "collapsed": true
   },
   "outputs": [
    {
     "data": {
      "text/plain": [
       "defaultdict(list,\n",
       "            {'Lanzhou': ['Jiayuguan',\n",
       "              'Xining',\n",
       "              'Chengdu',\n",
       "              'Xian',\n",
       "              'Yingchuan'],\n",
       "             'Jiayuguan': ['Lanzhou', 'Xining'],\n",
       "             'Xining': ['Lanzhou', 'Jiayuguan', 'Chengdu', 'Yingchuan'],\n",
       "             'Chengdu': ['Lanzhou',\n",
       "              'Xining',\n",
       "              'Lasa',\n",
       "              'Guiyang',\n",
       "              'Xian',\n",
       "              'Chongqing'],\n",
       "             'Shijiazhuang': ['Zhengzhou',\n",
       "              'Taiyuan',\n",
       "              'Xian',\n",
       "              'Beijing',\n",
       "              'Tianjing',\n",
       "              'Huhehaote'],\n",
       "             'Lasa': ['Chengdu', 'Guiyang', 'Chongqing', 'Nanning'],\n",
       "             'Guiyang': ['Chengdu', 'Lasa', 'Chongqing', 'Nanning'],\n",
       "             'Wuhan': ['Zhengzhou',\n",
       "              'Nanjing',\n",
       "              'Hefei',\n",
       "              'Hangzhou',\n",
       "              'Nanchang',\n",
       "              'Fuzhou',\n",
       "              'Xian',\n",
       "              'Shanghai'],\n",
       "             'Zhengzhou': ['Shijiazhuang',\n",
       "              'Wuhan',\n",
       "              'Nanjing',\n",
       "              'Hefei',\n",
       "              'Taiyuan',\n",
       "              'Xian',\n",
       "              'Beijing',\n",
       "              'Tianjing',\n",
       "              'Huhehaote'],\n",
       "             'Nanjing': ['Wuhan',\n",
       "              'Zhengzhou',\n",
       "              'Hefei',\n",
       "              'Hangzhou',\n",
       "              'Nanchang',\n",
       "              'Fuzhou',\n",
       "              'Shanghai'],\n",
       "             'Hefei': ['Wuhan',\n",
       "              'Zhengzhou',\n",
       "              'Nanjing',\n",
       "              'Hangzhou',\n",
       "              'Nanchang',\n",
       "              'Fuzhou',\n",
       "              'Shanghai'],\n",
       "             'Hangzhou': ['Wuhan',\n",
       "              'Nanjing',\n",
       "              'Hefei',\n",
       "              'Nanchang',\n",
       "              'Fuzhou',\n",
       "              'Taiwan',\n",
       "              'Shanghai'],\n",
       "             'Nanchang': ['Wuhan',\n",
       "              'Nanjing',\n",
       "              'Hefei',\n",
       "              'Hangzhou',\n",
       "              'Fuzhou',\n",
       "              'Guangzhou',\n",
       "              'Taiwan',\n",
       "              'Shanghai'],\n",
       "             'Fuzhou': ['Wuhan',\n",
       "              'Nanjing',\n",
       "              'Hefei',\n",
       "              'Hangzhou',\n",
       "              'Nanchang',\n",
       "              'Guangzhou',\n",
       "              'Taiwan',\n",
       "              'Shanghai',\n",
       "              'Xianggang'],\n",
       "             'Guangzhou': ['Nanchang',\n",
       "              'Fuzhou',\n",
       "              '海口',\n",
       "              'Nanning',\n",
       "              'Xianggang',\n",
       "              'Aomen'],\n",
       "             '海口': ['Guangzhou', 'Nanning', 'Xianggang', 'Aomen'],\n",
       "             'Shengyang': ['Changchun', 'Haerbing', 'Beijing', 'Tianjing'],\n",
       "             'Changchun': ['Shengyang', 'Haerbing'],\n",
       "             'Haerbing': ['Shengyang', 'Changchun'],\n",
       "             'Taiyuan': ['Shijiazhuang',\n",
       "              'Zhengzhou',\n",
       "              'Xian',\n",
       "              'Beijing',\n",
       "              'Tianjing',\n",
       "              'Huhehaote',\n",
       "              'Yingchuan'],\n",
       "             'Xian': ['Lanzhou',\n",
       "              'Chengdu',\n",
       "              'Shijiazhuang',\n",
       "              'Wuhan',\n",
       "              'Zhengzhou',\n",
       "              'Taiyuan',\n",
       "              'Chongqing',\n",
       "              'Yingchuan'],\n",
       "             'Taiwan': ['Hangzhou', 'Nanchang', 'Fuzhou', 'Shanghai'],\n",
       "             'Beijing': ['Shijiazhuang',\n",
       "              'Zhengzhou',\n",
       "              'Shengyang',\n",
       "              'Taiyuan',\n",
       "              'Tianjing',\n",
       "              'Huhehaote'],\n",
       "             'Shanghai': ['Wuhan',\n",
       "              'Nanjing',\n",
       "              'Hefei',\n",
       "              'Hangzhou',\n",
       "              'Nanchang',\n",
       "              'Fuzhou',\n",
       "              'Taiwan'],\n",
       "             'Chongqing': ['Chengdu', 'Lasa', 'Guiyang', 'Xian'],\n",
       "             'Tianjing': ['Shijiazhuang',\n",
       "              'Zhengzhou',\n",
       "              'Shengyang',\n",
       "              'Taiyuan',\n",
       "              'Beijing',\n",
       "              'Huhehaote'],\n",
       "             'Huhehaote': ['Shijiazhuang',\n",
       "              'Zhengzhou',\n",
       "              'Taiyuan',\n",
       "              'Beijing',\n",
       "              'Tianjing',\n",
       "              'Yingchuan'],\n",
       "             'Nanning': ['Lasa',\n",
       "              'Guiyang',\n",
       "              'Guangzhou',\n",
       "              '海口',\n",
       "              'Xianggang',\n",
       "              'Aomen'],\n",
       "             'Yingchuan': ['Lanzhou',\n",
       "              'Xining',\n",
       "              'Taiyuan',\n",
       "              'Xian',\n",
       "              'Huhehaote'],\n",
       "             'Xianggang': ['Fuzhou', 'Guangzhou', '海口', 'Nanning', 'Aomen'],\n",
       "             'Aomen': ['Guangzhou', '海口', 'Nanning', 'Xianggang']})"
      ]
     },
     "execution_count": 163,
     "metadata": {},
     "output_type": "execute_result"
    }
   ],
   "source": [
    "city_connection"
   ]
  },
  {
   "cell_type": "markdown",
   "metadata": {},
   "source": [
    "## 正则表达式"
   ]
  },
  {
   "cell_type": "code",
   "execution_count": 66,
   "metadata": {},
   "outputs": [],
   "source": [
    "import re"
   ]
  },
  {
   "cell_type": "code",
   "execution_count": 69,
   "metadata": {},
   "outputs": [],
   "source": [
    "some_text = 'this is a test text, I want some more tests; And I have some tested cases'"
   ]
  },
  {
   "cell_type": "code",
   "execution_count": 71,
   "metadata": {},
   "outputs": [
    {
     "data": {
      "text/plain": [
       "('test', 'tests', 'testedededed')"
      ]
     },
     "execution_count": 71,
     "metadata": {},
     "output_type": "execute_result"
    }
   ],
   "source": [
    "'test', 'tests', 'testedededed'"
   ]
  },
  {
   "cell_type": "code",
   "execution_count": 78,
   "metadata": {},
   "outputs": [],
   "source": [
    "# + 一个或者多个字符\n",
    "# * 指的是0个或者多个字符"
   ]
  },
  {
   "cell_type": "code",
   "execution_count": 79,
   "metadata": {},
   "outputs": [
    {
     "data": {
      "text/plain": [
       "['tests', 'tested']"
      ]
     },
     "execution_count": 79,
     "metadata": {},
     "output_type": "execute_result"
    }
   ],
   "source": [
    "## re == > regular expresson\n",
    "pattern = 'test\\w*' \n",
    "pattern_2 = 'test\\w+' \n",
    "\n",
    "re.findall(pattern_2, some_text)\n",
    "#re.findall(pattern, some_text)"
   ]
  },
  {
   "cell_type": "code",
   "execution_count": 88,
   "metadata": {},
   "outputs": [],
   "source": [
    "with_numbers_text = \"\"\"\n",
    "    电话：18910451234 年龄：32 性别：男 ID：90\n",
    "    电话：18910451234 年龄：32 性别：男\n",
    "    电话：18910451234 年龄：32 性别：男\n",
    "    电话：18910451234 年龄：32 性别：男\n",
    "    电话：189104513123234 年龄：32 性别：男 ID: 312\n",
    "    电话：18910451234 年龄：32 性别：男\n",
    "    电话：18989810451234 年龄：32 性别：男 STU_OD: 312\n",
    "    电话：01018910451234 年龄：3 性别：男\n",
    "    电话：18910451234 年龄：32 性别：男\n",
    "    电话：18910451234 年龄：32 性别：男\n",
    "    电话：18910451234 年龄：32 性别：男\n",
    "\"\"\""
   ]
  },
  {
   "cell_type": "code",
   "execution_count": 95,
   "metadata": {},
   "outputs": [],
   "source": [
    "with_constraint_num_pattern = '电话：(\\d+) 年龄：(\\d+)' "
   ]
  },
  {
   "cell_type": "code",
   "execution_count": 96,
   "metadata": {},
   "outputs": [
    {
     "data": {
      "text/plain": [
       "[('18910451234', '32'),\n",
       " ('18910451234', '32'),\n",
       " ('18910451234', '32'),\n",
       " ('18910451234', '32'),\n",
       " ('189104513123234', '32'),\n",
       " ('18910451234', '32'),\n",
       " ('18989810451234', '32'),\n",
       " ('01018910451234', '3'),\n",
       " ('18910451234', '32'),\n",
       " ('18910451234', '32'),\n",
       " ('18910451234', '32')]"
      ]
     },
     "execution_count": 96,
     "metadata": {},
     "output_type": "execute_result"
    }
   ],
   "source": [
    "re.findall(with_constraint_num_pattern, with_numbers_text)"
   ]
  },
  {
   "cell_type": "code",
   "execution_count": 48,
   "metadata": {},
   "outputs": [],
   "source": [
    "import networkx as nx"
   ]
  },
  {
   "cell_type": "code",
   "execution_count": 61,
   "metadata": {},
   "outputs": [],
   "source": [
    "relatinship = {\n",
    "    'Zhangsan': [],\n",
    "    'Li': [],\n",
    "    'Huang': []\n",
    "}"
   ]
  },
  {
   "cell_type": "code",
   "execution_count": 62,
   "metadata": {},
   "outputs": [],
   "source": [
    "simple_graph = nx.Graph(relatinship)"
   ]
  },
  {
   "cell_type": "code",
   "execution_count": 63,
   "metadata": {},
   "outputs": [],
   "source": [
    "%matplotlib inline"
   ]
  },
  {
   "cell_type": "code",
   "execution_count": 64,
   "metadata": {},
   "outputs": [],
   "source": [
    "locations = {\n",
    "    'Zhangsan': (0, 0),\n",
    "    'Li': (1, 4),\n",
    "    'Wang': (9, 0),\n",
    "    'Liu': (19, 1),\n",
    "    'Gao': (10, 10), \n",
    "    'Huang': (11, 19),\n",
    "    'Hu': (18, -10)\n",
    "}"
   ]
  },
  {
   "cell_type": "code",
   "execution_count": 65,
   "metadata": {
    "scrolled": true
   },
   "outputs": [
    {
     "data": {
      "image/png": "[encoded data removed]",
      "text/plain": [
       "<Figure size 432x288 with 1 Axes>"
      ]
     },
     "metadata": {},
     "output_type": "display_data"
    }
   ],
   "source": [
    "nx.draw(simple_graph, locations, with_labels=True)"
   ]
  },
  {
   "cell_type": "code",
   "execution_count": 164,
   "metadata": {},
   "outputs": [],
   "source": [
    "city_graph = nx.Graph(city_connection)"
   ]
  },
  {
   "cell_type": "code",
   "execution_count": 166,
   "metadata": {},
   "outputs": [
    {
     "data": {
      "image/png": "[encoded data removed]",
      "text/plain": [
       "<Figure size 432x288 with 1 Axes>"
      ]
     },
     "metadata": {},
     "output_type": "display_data"
    }
   ],
   "source": [
    "nx.draw(city_graph, city_location, with_labels=True)"
   ]
  },
  {
   "cell_type": "markdown",
   "metadata": {},
   "source": [
    "## 五子棋 --> \n",
    "## 象棋"
   ]
  },
  {
   "cell_type": "markdown",
   "metadata": {},
   "source": [
    "## 从郑州到嘉峪关为例"
   ]
  },
  {
   "cell_type": "markdown",
   "metadata": {},
   "source": [
    "## 广度优先搜索"
   ]
  },
  {
   "cell_type": "code",
   "execution_count": 252,
   "metadata": {},
   "outputs": [],
   "source": [
    "def bfs(graph, start, destination):   \n",
    "#    need_visit = [start]    \n",
    "    pathes = [[start]]\n",
    "    \n",
    "    seen = set()\n",
    "    \n",
    "    visited_cities = []\n",
    "    \n",
    "#    while need_visit:\n",
    "    while pathes:\n",
    "        path = pathes.pop(0)\n",
    "        \n",
    "#        froniter = need_visit.pop(0)\n",
    "        froniter = path[-1]\n",
    "        \n",
    "        if froniter in seen: continue\n",
    "        \n",
    "        for successor in graph[froniter]:\n",
    "            if successor in path: continue\n",
    "            \n",
    "            new_path = path + [successor]\n",
    "            \n",
    "            if successor == destination: # 找到目的地的时候\n",
    "                visited_cities.append(froniter)\n",
    "                visited_cities.append(successor)\n",
    "                return new_path, visited_cities, pathes # 返回了\n",
    "                \n",
    "            pathes.append(new_path)\n",
    "        \n",
    "        seen.add(froniter)\n",
    "        \n",
    "        visited_cities.append(froniter)\n",
    "    \n",
    "    return seen, visited_cities, pathes\n",
    "            "
   ]
  },
  {
   "cell_type": "code",
   "execution_count": 291,
   "metadata": {},
   "outputs": [],
   "source": [
    "def best_fs(graph, start, destination, strategy):   \n",
    "#    need_visit = [start]    \n",
    "    pathes = [[start]]\n",
    "    \n",
    "    seen = set()\n",
    "    \n",
    "    visited_cities = []\n",
    "    \n",
    "#    while need_visit:\n",
    "    while pathes:\n",
    "        path = pathes.pop(0)\n",
    "        \n",
    "#        froniter = need_visit.pop(0)\n",
    "        froniter = path[-1]\n",
    "        \n",
    "        if froniter in seen: continue\n",
    "        \n",
    "        for successor in graph[froniter]:\n",
    "            if successor in path: continue\n",
    "            \n",
    "            new_path = path + [successor]\n",
    "            \n",
    "            if successor == destination: # 找到目的地的时候\n",
    "                visited_cities.append(froniter)\n",
    "                visited_cities.append(successor)\n",
    "                return new_path, visited_cities, pathes # 返回了\n",
    "                \n",
    "            pathes.append(new_path)\n",
    "        \n",
    "        seen.add(froniter)\n",
    "        \n",
    "        visited_cities.append(froniter)\n",
    "        \n",
    "        pathes = sorted(pathes, key=strategy)\n",
    "    \n",
    "    return seen, visited_cities, pathes\n",
    "            "
   ]
  },
  {
   "cell_type": "code",
   "execution_count": 292,
   "metadata": {},
   "outputs": [],
   "source": [
    "p, v, ps = best_fs(city_graph, 'Haerbing', 'Hefei', get_total_length)"
   ]
  },
  {
   "cell_type": "code",
   "execution_count": 293,
   "metadata": {},
   "outputs": [
    {
     "name": "stdout",
     "output_type": "stream",
     "text": [
      "Haerbing🚘->Shengyang🚘->Tianjing🚘->Zhengzhou🚘->Hefei\n"
     ]
    }
   ],
   "source": [
    "pretty_print(p)"
   ]
  },
  {
   "cell_type": "code",
   "execution_count": 300,
   "metadata": {},
   "outputs": [],
   "source": [
    "p, v, ps = best_fs(city_graph, 'Haerbing', 'Hefei', lambda x: -len(x))"
   ]
  },
  {
   "cell_type": "code",
   "execution_count": 301,
   "metadata": {},
   "outputs": [
    {
     "name": "stdout",
     "output_type": "stream",
     "text": [
      "Haerbing🚘->Shengyang🚘->Beijing🚘->Shijiazhuang🚘->Zhengzhou🚘->Hefei\n"
     ]
    },
    {
     "data": {
      "text/plain": [
       "2236.9751148272708"
      ]
     },
     "execution_count": 301,
     "metadata": {},
     "output_type": "execute_result"
    }
   ],
   "source": [
    "pretty_print(p)\n",
    "get_total_length(p)"
   ]
  },
  {
   "cell_type": "code",
   "execution_count": 296,
   "metadata": {},
   "outputs": [
    {
     "name": "stdout",
     "output_type": "stream",
     "text": [
      "Haerbing🚘->Shengyang🚘->Beijing🚘->Zhengzhou🚘->Hefei\n"
     ]
    },
    {
     "data": {
      "text/plain": [
       "2219.9781106961673"
      ]
     },
     "execution_count": 296,
     "metadata": {},
     "output_type": "execute_result"
    }
   ],
   "source": [
    "p, v, ps = bfs(city_graph, 'Haerbing', 'Hefei')\n",
    "\n",
    "pretty_print(p)\n",
    "\n",
    "get_total_length(p)"
   ]
  },
  {
   "cell_type": "code",
   "execution_count": 281,
   "metadata": {},
   "outputs": [],
   "source": [
    "def pretty_print(cities):\n",
    "    print('🚘->'.join(cities))"
   ]
  },
  {
   "cell_type": "code",
   "execution_count": 283,
   "metadata": {},
   "outputs": [
    {
     "name": "stdout",
     "output_type": "stream",
     "text": [
      "Haerbing🚘->Shengyang🚘->Beijing🚘->Zhengzhou🚘->Hefei\n"
     ]
    }
   ],
   "source": [
    "p, v, ps = bfs(city_graph, 'Haerbing', 'Hefei')\n",
    "\n",
    "pretty_print(p)\n",
    "\n",
    "def get_total_length(path):\n",
    "    distance = 0 \n",
    "    for i, city in enumerate(path[:-1]):\n",
    "        current, next_c = city, path[i+1]\n",
    "        distance += get_city_distance(current, next_c)\n",
    "    \n",
    "    return distance"
   ]
  },
  {
   "cell_type": "code",
   "execution_count": 255,
   "metadata": {
    "collapsed": true
   },
   "outputs": [
    {
     "data": {
      "text/plain": [
       "(['Beijing',\n",
       "  'Huhehaote',\n",
       "  'Yingchuan',\n",
       "  'Xian',\n",
       "  'Chongqing',\n",
       "  'Guiyang',\n",
       "  'Nanning',\n",
       "  'Aomen',\n",
       "  'Xianggang',\n",
       "  '海口',\n",
       "  'Guangzhou',\n",
       "  'Fuzhou',\n",
       "  'Hefei'],\n",
       " ['Beijing',\n",
       "  'Huhehaote',\n",
       "  'Yingchuan',\n",
       "  'Xian',\n",
       "  'Chongqing',\n",
       "  'Guiyang',\n",
       "  'Nanning',\n",
       "  'Aomen',\n",
       "  'Xianggang',\n",
       "  '海口',\n",
       "  'Guangzhou',\n",
       "  'Fuzhou',\n",
       "  'Hefei'],\n",
       " [['Beijing', 'Shijiazhuang'],\n",
       "  ['Beijing', 'Zhengzhou'],\n",
       "  ['Beijing', 'Shengyang'],\n",
       "  ['Beijing', 'Taiyuan'],\n",
       "  ['Beijing', 'Tianjing'],\n",
       "  ['Beijing', 'Huhehaote', 'Shijiazhuang'],\n",
       "  ['Beijing', 'Huhehaote', 'Zhengzhou'],\n",
       "  ['Beijing', 'Huhehaote', 'Taiyuan'],\n",
       "  ['Beijing', 'Huhehaote', 'Tianjing'],\n",
       "  ['Beijing', 'Huhehaote', 'Yingchuan', 'Lanzhou'],\n",
       "  ['Beijing', 'Huhehaote', 'Yingchuan', 'Xining'],\n",
       "  ['Beijing', 'Huhehaote', 'Yingchuan', 'Taiyuan'],\n",
       "  ['Beijing', 'Huhehaote', 'Yingchuan', 'Xian', 'Lanzhou'],\n",
       "  ['Beijing', 'Huhehaote', 'Yingchuan', 'Xian', 'Chengdu'],\n",
       "  ['Beijing', 'Huhehaote', 'Yingchuan', 'Xian', 'Shijiazhuang'],\n",
       "  ['Beijing', 'Huhehaote', 'Yingchuan', 'Xian', 'Wuhan'],\n",
       "  ['Beijing', 'Huhehaote', 'Yingchuan', 'Xian', 'Zhengzhou'],\n",
       "  ['Beijing', 'Huhehaote', 'Yingchuan', 'Xian', 'Taiyuan'],\n",
       "  ['Beijing', 'Huhehaote', 'Yingchuan', 'Xian', 'Chongqing', 'Chengdu'],\n",
       "  ['Beijing', 'Huhehaote', 'Yingchuan', 'Xian', 'Chongqing', 'Lasa'],\n",
       "  ['Beijing',\n",
       "   'Huhehaote',\n",
       "   'Yingchuan',\n",
       "   'Xian',\n",
       "   'Chongqing',\n",
       "   'Guiyang',\n",
       "   'Chengdu'],\n",
       "  ['Beijing',\n",
       "   'Huhehaote',\n",
       "   'Yingchuan',\n",
       "   'Xian',\n",
       "   'Chongqing',\n",
       "   'Guiyang',\n",
       "   'Lasa'],\n",
       "  ['Beijing',\n",
       "   'Huhehaote',\n",
       "   'Yingchuan',\n",
       "   'Xian',\n",
       "   'Chongqing',\n",
       "   'Guiyang',\n",
       "   'Nanning',\n",
       "   'Lasa'],\n",
       "  ['Beijing',\n",
       "   'Huhehaote',\n",
       "   'Yingchuan',\n",
       "   'Xian',\n",
       "   'Chongqing',\n",
       "   'Guiyang',\n",
       "   'Nanning',\n",
       "   'Guangzhou'],\n",
       "  ['Beijing',\n",
       "   'Huhehaote',\n",
       "   'Yingchuan',\n",
       "   'Xian',\n",
       "   'Chongqing',\n",
       "   'Guiyang',\n",
       "   'Nanning',\n",
       "   '海口'],\n",
       "  ['Beijing',\n",
       "   'Huhehaote',\n",
       "   'Yingchuan',\n",
       "   'Xian',\n",
       "   'Chongqing',\n",
       "   'Guiyang',\n",
       "   'Nanning',\n",
       "   'Xianggang'],\n",
       "  ['Beijing',\n",
       "   'Huhehaote',\n",
       "   'Yingchuan',\n",
       "   'Xian',\n",
       "   'Chongqing',\n",
       "   'Guiyang',\n",
       "   'Nanning',\n",
       "   'Aomen',\n",
       "   'Guangzhou'],\n",
       "  ['Beijing',\n",
       "   'Huhehaote',\n",
       "   'Yingchuan',\n",
       "   'Xian',\n",
       "   'Chongqing',\n",
       "   'Guiyang',\n",
       "   'Nanning',\n",
       "   'Aomen',\n",
       "   '海口'],\n",
       "  ['Beijing',\n",
       "   'Huhehaote',\n",
       "   'Yingchuan',\n",
       "   'Xian',\n",
       "   'Chongqing',\n",
       "   'Guiyang',\n",
       "   'Nanning',\n",
       "   'Aomen',\n",
       "   'Xianggang',\n",
       "   'Fuzhou'],\n",
       "  ['Beijing',\n",
       "   'Huhehaote',\n",
       "   'Yingchuan',\n",
       "   'Xian',\n",
       "   'Chongqing',\n",
       "   'Guiyang',\n",
       "   'Nanning',\n",
       "   'Aomen',\n",
       "   'Xianggang',\n",
       "   'Guangzhou'],\n",
       "  ['Beijing',\n",
       "   'Huhehaote',\n",
       "   'Yingchuan',\n",
       "   'Xian',\n",
       "   'Chongqing',\n",
       "   'Guiyang',\n",
       "   'Nanning',\n",
       "   'Aomen',\n",
       "   'Xianggang',\n",
       "   '海口',\n",
       "   'Guangzhou',\n",
       "   'Nanchang'],\n",
       "  ['Beijing',\n",
       "   'Huhehaote',\n",
       "   'Yingchuan',\n",
       "   'Xian',\n",
       "   'Chongqing',\n",
       "   'Guiyang',\n",
       "   'Nanning',\n",
       "   'Aomen',\n",
       "   'Xianggang',\n",
       "   '海口',\n",
       "   'Guangzhou',\n",
       "   'Fuzhou',\n",
       "   'Wuhan'],\n",
       "  ['Beijing',\n",
       "   'Huhehaote',\n",
       "   'Yingchuan',\n",
       "   'Xian',\n",
       "   'Chongqing',\n",
       "   'Guiyang',\n",
       "   'Nanning',\n",
       "   'Aomen',\n",
       "   'Xianggang',\n",
       "   '海口',\n",
       "   'Guangzhou',\n",
       "   'Fuzhou',\n",
       "   'Nanjing']])"
      ]
     },
     "execution_count": 255,
     "metadata": {},
     "output_type": "execute_result"
    }
   ],
   "source": [
    "depth_first_search(city_graph, 'Beijing', 'Hefei')"
   ]
  },
  {
   "cell_type": "markdown",
   "metadata": {},
   "source": [
    "## 深度优先算法"
   ]
  },
  {
   "cell_type": "code",
   "execution_count": 246,
   "metadata": {},
   "outputs": [],
   "source": [
    "def depth_first_search(graph, start, destination):   \n",
    "#    need_visit = [start]    \n",
    "    pathes = [[start]]\n",
    "    \n",
    "    seen = set()\n",
    "    \n",
    "    visited_cities = []\n",
    "    \n",
    "#    while need_visit:\n",
    "    while pathes:\n",
    "  #      path = pathes.pop(0) # 把以前的老路先走完\n",
    "        path = pathes.pop(-1) # 取最新的路径\n",
    "        \n",
    "#        froniter = need_visit.pop(0)\n",
    "        froniter = path[-1]\n",
    "        \n",
    "        if froniter in seen: continue\n",
    "        \n",
    "        for successor in graph[froniter]:\n",
    "            if successor in path: continue\n",
    "            \n",
    "            new_path = path + [successor]\n",
    "            \n",
    "            if successor == destination: # 找到目的地的时候\n",
    "                visited_cities.append(froniter)\n",
    "                visited_cities.append(successor)\n",
    "                return new_path, visited_cities, pathes # 返回了\n",
    "                \n",
    "            pathes.append(new_path)\n",
    "        \n",
    "        seen.add(froniter)\n",
    "        \n",
    "        visited_cities.append(froniter)\n",
    "    \n",
    "    return seen, visited_cities, pathes\n",
    "            "
   ]
  },
  {
   "cell_type": "code",
   "execution_count": 206,
   "metadata": {},
   "outputs": [],
   "source": [
    "path, visited_cities, pathes = search(city_connection, 'Zhengzhou', 'Jiayuguan')"
   ]
  },
  {
   "cell_type": "code",
   "execution_count": 204,
   "metadata": {},
   "outputs": [
    {
     "data": {
      "text/plain": [
       "['Zhengzhou', 'Xian', 'Lanzhou', 'Jiayuguan']"
      ]
     },
     "execution_count": 204,
     "metadata": {},
     "output_type": "execute_result"
    }
   ],
   "source": [
    "path"
   ]
  },
  {
   "cell_type": "code",
   "execution_count": 207,
   "metadata": {},
   "outputs": [
    {
     "data": {
      "text/plain": [
       "[['Zhengzhou', 'Xian', 'Chengdu'],\n",
       " ['Zhengzhou', 'Xian', 'Shijiazhuang'],\n",
       " ['Zhengzhou', 'Xian', 'Wuhan'],\n",
       " ['Zhengzhou', 'Xian', 'Taiyuan'],\n",
       " ['Zhengzhou', 'Xian', 'Chongqing'],\n",
       " ['Zhengzhou', 'Xian', 'Yingchuan'],\n",
       " ['Zhengzhou', 'Beijing', 'Shijiazhuang'],\n",
       " ['Zhengzhou', 'Beijing', 'Shengyang'],\n",
       " ['Zhengzhou', 'Beijing', 'Taiyuan'],\n",
       " ['Zhengzhou', 'Beijing', 'Tianjing'],\n",
       " ['Zhengzhou', 'Beijing', 'Huhehaote'],\n",
       " ['Zhengzhou', 'Tianjing', 'Shijiazhuang'],\n",
       " ['Zhengzhou', 'Tianjing', 'Shengyang'],\n",
       " ['Zhengzhou', 'Tianjing', 'Taiyuan'],\n",
       " ['Zhengzhou', 'Tianjing', 'Beijing'],\n",
       " ['Zhengzhou', 'Tianjing', 'Huhehaote'],\n",
       " ['Zhengzhou', 'Huhehaote', 'Shijiazhuang'],\n",
       " ['Zhengzhou', 'Huhehaote', 'Taiyuan'],\n",
       " ['Zhengzhou', 'Huhehaote', 'Beijing'],\n",
       " ['Zhengzhou', 'Huhehaote', 'Tianjing'],\n",
       " ['Zhengzhou', 'Huhehaote', 'Yingchuan'],\n",
       " ['Zhengzhou', 'Wuhan', 'Hangzhou', 'Nanjing'],\n",
       " ['Zhengzhou', 'Wuhan', 'Hangzhou', 'Hefei'],\n",
       " ['Zhengzhou', 'Wuhan', 'Hangzhou', 'Nanchang'],\n",
       " ['Zhengzhou', 'Wuhan', 'Hangzhou', 'Fuzhou'],\n",
       " ['Zhengzhou', 'Wuhan', 'Hangzhou', 'Taiwan'],\n",
       " ['Zhengzhou', 'Wuhan', 'Hangzhou', 'Shanghai'],\n",
       " ['Zhengzhou', 'Wuhan', 'Nanchang', 'Nanjing'],\n",
       " ['Zhengzhou', 'Wuhan', 'Nanchang', 'Hefei'],\n",
       " ['Zhengzhou', 'Wuhan', 'Nanchang', 'Hangzhou'],\n",
       " ['Zhengzhou', 'Wuhan', 'Nanchang', 'Fuzhou'],\n",
       " ['Zhengzhou', 'Wuhan', 'Nanchang', 'Guangzhou'],\n",
       " ['Zhengzhou', 'Wuhan', 'Nanchang', 'Taiwan'],\n",
       " ['Zhengzhou', 'Wuhan', 'Nanchang', 'Shanghai'],\n",
       " ['Zhengzhou', 'Wuhan', 'Fuzhou', 'Nanjing'],\n",
       " ['Zhengzhou', 'Wuhan', 'Fuzhou', 'Hefei'],\n",
       " ['Zhengzhou', 'Wuhan', 'Fuzhou', 'Hangzhou'],\n",
       " ['Zhengzhou', 'Wuhan', 'Fuzhou', 'Nanchang'],\n",
       " ['Zhengzhou', 'Wuhan', 'Fuzhou', 'Guangzhou'],\n",
       " ['Zhengzhou', 'Wuhan', 'Fuzhou', 'Taiwan'],\n",
       " ['Zhengzhou', 'Wuhan', 'Fuzhou', 'Shanghai'],\n",
       " ['Zhengzhou', 'Wuhan', 'Fuzhou', 'Xianggang'],\n",
       " ['Zhengzhou', 'Wuhan', 'Shanghai', 'Nanjing'],\n",
       " ['Zhengzhou', 'Wuhan', 'Shanghai', 'Hefei'],\n",
       " ['Zhengzhou', 'Wuhan', 'Shanghai', 'Hangzhou'],\n",
       " ['Zhengzhou', 'Wuhan', 'Shanghai', 'Nanchang'],\n",
       " ['Zhengzhou', 'Wuhan', 'Shanghai', 'Fuzhou'],\n",
       " ['Zhengzhou', 'Wuhan', 'Shanghai', 'Taiwan'],\n",
       " ['Zhengzhou', 'Taiyuan', 'Yingchuan', 'Lanzhou'],\n",
       " ['Zhengzhou', 'Taiyuan', 'Yingchuan', 'Xining'],\n",
       " ['Zhengzhou', 'Taiyuan', 'Yingchuan', 'Xian'],\n",
       " ['Zhengzhou', 'Taiyuan', 'Yingchuan', 'Huhehaote']]"
      ]
     },
     "execution_count": 207,
     "metadata": {},
     "output_type": "execute_result"
    }
   ],
   "source": [
    "pathes"
   ]
  },
  {
   "cell_type": "code",
   "execution_count": 187,
   "metadata": {},
   "outputs": [],
   "source": [
    "color_map = ['green' for _ in city_graph]"
   ]
  },
  {
   "cell_type": "code",
   "execution_count": 221,
   "metadata": {},
   "outputs": [],
   "source": [
    "def visited_procedure(graph, postion, visited_order, step):\n",
    "\n",
    "    changed = visited_order[:step] if step else visited_order\n",
    "    \n",
    "    color_map = ['green' if c in changed else 'red' for c in graph]\n",
    "    \n",
    "    nx.draw(graph, postion, node_color=color_map, with_labels=True)"
   ]
  },
  {
   "cell_type": "code",
   "execution_count": 240,
   "metadata": {},
   "outputs": [
    {
     "data": {
      "image/png": "[encoded data removed]",
      "text/plain": [
       "<Figure size 432x288 with 1 Axes>"
      ]
     },
     "metadata": {},
     "output_type": "display_data"
    }
   ],
   "source": [
    "path, visited_cities_bfs, pathes = search(city_connection, 'Zhengzhou', 'Jiayuguan')\n",
    "visited_procedure(city_graph, city_location, visited_cities_bfs, step=20)"
   ]
  },
  {
   "cell_type": "code",
   "execution_count": 247,
   "metadata": {},
   "outputs": [],
   "source": [
    "path, visited_cities_dfs, pathes = depth_first_search(city_connection, 'Zhengzhou', 'Jiayuguan')"
   ]
  },
  {
   "cell_type": "code",
   "execution_count": 250,
   "metadata": {},
   "outputs": [
    {
     "data": {
      "image/png": "[encoded data removed]",
      "text/plain": [
       "<Figure size 432x288 with 1 Axes>"
      ]
     },
     "metadata": {},
     "output_type": "display_data"
    }
   ],
   "source": [
    "visited_procedure(city_graph, city_location, visited_cities_dfs, step=18)"
   ]
  },
  {
   "cell_type": "code",
   "execution_count": 249,
   "metadata": {},
   "outputs": [
    {
     "data": {
      "text/plain": [
       "['Zhengzhou',\n",
       " 'Huhehaote',\n",
       " 'Yingchuan',\n",
       " 'Xian',\n",
       " 'Chongqing',\n",
       " 'Guiyang',\n",
       " 'Nanning',\n",
       " 'Lasa',\n",
       " 'Chengdu',\n",
       " 'Xining',\n",
       " 'Jiayuguan']"
      ]
     },
     "execution_count": 249,
     "metadata": {},
     "output_type": "execute_result"
    }
   ],
   "source": [
    "path"
   ]
  },
  {
   "cell_type": "markdown",
   "metadata": {},
   "source": [
    "## 找到了从郑州到嘉峪关的路"
   ]
  },
  {
   "cell_type": "code",
   "execution_count": 223,
   "metadata": {},
   "outputs": [],
   "source": [
    "path, visited_cities, pathes = search(city_connection, 'Zhengzhou', 'Jiayuguan')"
   ]
  },
  {
   "cell_type": "code",
   "execution_count": 224,
   "metadata": {},
   "outputs": [
    {
     "data": {
      "image/png": "[encoded data removed]",
      "text/plain": [
       "<Figure size 432x288 with 1 Axes>"
      ]
     },
     "metadata": {},
     "output_type": "display_data"
    }
   ],
   "source": [
    "visited_procedure(city_graph, city_location, visited_cities, step=None)"
   ]
  },
  {
   "cell_type": "markdown",
   "metadata": {},
   "source": [
    "## 爬虫、搜索引擎与BFS，DFS的关系"
   ]
  },
  {
   "cell_type": "markdown",
   "metadata": {},
   "source": [
    "## 如果你要做一个爬虫程序，你应该用BFS还是DFS？"
   ]
  },
  {
   "cell_type": "code",
   "execution_count": 304,
   "metadata": {},
   "outputs": [],
   "source": [
    "import requests"
   ]
  },
  {
   "cell_type": "markdown",
   "metadata": {},
   "source": [
    "https://github.com/Autobicycle-Never-Blocking/Beloved-Little-Moto/blob/master/crawl.py"
   ]
  },
  {
   "cell_type": "markdown",
   "metadata": {},
   "source": [
    "## 作业：从https://ditie.mapbar.com/beijing/开始\n",
    "+ 爬虫\n",
    "+ 正则表达式\n",
    "+ 数据预处理 \n",
    "+ BFS\n",
    "+ Best-First-Search \n",
    "-> 实现北京地铁的换乘方案"
   ]
  },
  {
   "cell_type": "code",
   "execution_count": 317,
   "metadata": {},
   "outputs": [],
   "source": [
    "url = 'https://ditie.mapbar.com/beijing/'"
   ]
  },
  {
   "cell_type": "code",
   "execution_count": 318,
   "metadata": {},
   "outputs": [],
   "source": [
    "response = requests.get(url)"
   ]
  },
  {
   "cell_type": "code",
   "execution_count": 325,
   "metadata": {},
   "outputs": [],
   "source": [
    "pattern = \"\"\"<a href=\"(http://ditie\\.mapbar\\.com/beijing/\\w+/)\" style=\"background-color:#\\w+\" target=\"_blank\">(\\w+)</a>\"\"\""
   ]
  },
  {
   "cell_type": "code",
   "execution_count": 326,
   "metadata": {},
   "outputs": [
    {
     "data": {
      "text/plain": [
       "[('http://ditie.mapbar.com/beijing/line_ditiebatongxian/', '地铁八通线'),\n",
       " ('http://ditie.mapbar.com/beijing/line_ditiechangpingxian/', '地铁昌平线'),\n",
       " ('http://ditie.mapbar.com/beijing/line_ditiefangshanxian/', '地铁房山线'),\n",
       " ('http://ditie.mapbar.com/beijing/line_ditieyizhuangxian/', '地铁亦庄线'),\n",
       " ('http://ditie.mapbar.com/beijing/line_jichangkuaigui/', '机场快轨'),\n",
       " ('http://ditie.mapbar.com/beijing/line_ditie1haoxian/', '地铁1号线'),\n",
       " ('http://ditie.mapbar.com/beijing/line_ditie2haoxian/', '地铁2号线'),\n",
       " ('http://ditie.mapbar.com/beijing/line_ditie4haoxiandaxingxian/', '地铁4号线大兴线'),\n",
       " ('http://ditie.mapbar.com/beijing/line_ditie5haoxian/', '地铁5号线'),\n",
       " ('http://ditie.mapbar.com/beijing/line_ditie6haoxian/', '地铁6号线'),\n",
       " ('http://ditie.mapbar.com/beijing/line_ditie7haoxian/', '地铁7号线'),\n",
       " ('http://ditie.mapbar.com/beijing/line_ditie8haoxian/', '地铁8号线'),\n",
       " ('http://ditie.mapbar.com/beijing/line_ditie9haoxian/', '地铁9号线'),\n",
       " ('http://ditie.mapbar.com/beijing/line_ditie10haoxian/', '地铁10号线'),\n",
       " ('http://ditie.mapbar.com/beijing/line_ditie13haoxian/', '地铁13号线'),\n",
       " ('http://ditie.mapbar.com/beijing/line_ditie14haoxian/', '地铁14号线'),\n",
       " ('http://ditie.mapbar.com/beijing/line_ditie14haoxiandongduan/', '地铁14号线东段'),\n",
       " ('http://ditie.mapbar.com/beijing/line_ditie15haoxian/', '地铁15号线'),\n",
       " ('http://ditie.mapbar.com/beijing/line_ditie16haoxian/', '地铁16号线')]"
      ]
     },
     "execution_count": 326,
     "metadata": {},
     "output_type": "execute_result"
    }
   ],
   "source": [
    "re.findall(pattern, response.text)"
   ]
  },
  {
   "cell_type": "code",
   "execution_count": 344,
   "metadata": {},
   "outputs": [],
   "source": [
    "a_station = 'https://ditie.mapbar.com/beijing/line_ditiebatongxian/'"
   ]
  },
  {
   "cell_type": "code",
   "execution_count": 352,
   "metadata": {},
   "outputs": [],
   "source": [
    "response = requests.get(a_station)"
   ]
  },
  {
   "cell_type": "code",
   "execution_count": 372,
   "metadata": {},
   "outputs": [],
   "source": [
    "pattern_s = '<li\\s*.*><a class=\"cl\\-station\" href=\"http://ditie\\.mapbar\\.com/beijing/station_\\w+/\" target=\"_blank\" title=\"\\w+\">(\\w+)</a></li>'"
   ]
  },
  {
   "cell_type": "code",
   "execution_count": 373,
   "metadata": {},
   "outputs": [
    {
     "data": {
      "text/plain": [
       "['四惠站',\n",
       " '四惠东站',\n",
       " '高碑店站',\n",
       " '传媒大学站',\n",
       " '双桥站',\n",
       " '管庄站',\n",
       " '八里桥站',\n",
       " '通州北苑站',\n",
       " '果园站',\n",
       " '九棵树站',\n",
       " '梨园站',\n",
       " '临河里站',\n",
       " '土桥站']"
      ]
     },
     "execution_count": 373,
     "metadata": {},
     "output_type": "execute_result"
    }
   ],
   "source": [
    "re.findall(pattern_s, response.text)"
   ]
  },
  {
   "cell_type": "code",
   "execution_count": null,
   "metadata": {},
   "outputs": [],
   "source": [
    "{\n",
    "    '八通线'：[],\n",
    "    '一号线'：[],\n",
    "}"
   ]
  }
 ],
 "metadata": {
  "kernelspec": {
   "display_name": "Python 3",
   "language": "python",
   "name": "python3"
  },
  "language_info": {
   "codemirror_mode": {
    "name": "ipython",
    "version": 3
   },
   "file_extension": ".py",
   "mimetype": "text/x-python",
   "name": "python",
   "nbconvert_exporter": "python",
   "pygments_lexer": "ipython3",
   "version": "3.7.3"
  }
 },
 "nbformat": 4,
 "nbformat_minor": 2
}
